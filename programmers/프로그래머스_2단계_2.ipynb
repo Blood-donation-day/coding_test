{
 "cells": [
  {
   "cell_type": "code",
   "execution_count": null,
   "metadata": {},
   "outputs": [],
   "source": [
    "# 타겟 넘버         깊이/너비 우선 탐색(DFS/BFS)\n",
    "\n",
    "answer = 0\n",
    "N = 0\n",
    "visited = []\n",
    "\n",
    "def dfs(numbers, target, depth):\n",
    "    global answer\n",
    "\n",
    "    if depth == N:  # 종료 조건: 모든 숫자를 다 방문한 경우\n",
    "        if sum(numbers) == target:\n",
    "            answer += 1\n",
    "        return\n",
    "\n",
    "    numbers[depth] *= 1  # 해당 숫자를 더하는 경우\n",
    "    dfs(numbers, target, depth + 1)\n",
    "    \n",
    "    numbers[depth] *= -1  # 해당 숫자를 빼는 경우\n",
    "    dfs(numbers, target, depth + 1)\n",
    "\n",
    "    \n",
    "def solution(numbers, target):\n",
    "    global N, visited\n",
    "    N = len(numbers)\n",
    "    visited = [0] * N\n",
    "    \n",
    "    dfs(numbers, target, 0)\n",
    "    \n",
    "    return answer\n",
    "\n",
    "solution([1,1,1,1,1], 3)"
   ]
  },
  {
   "cell_type": "code",
   "execution_count": null,
   "metadata": {},
   "outputs": [],
   "source": [
    "from itertools import product\n",
    "def solution(numbers, target):\n",
    "    l = [(x, -x) for x in numbers]\n",
    "    s = list(map(sum, product(*l)))\n",
    "    return s.count(target)"
   ]
  },
  {
   "cell_type": "code",
   "execution_count": null,
   "metadata": {},
   "outputs": [],
   "source": [
    "# k 진수에서 소수 개수 구하기\n",
    "\n",
    "def solution(n, k):\n",
    "    T = '0123456789ABCDEF'\n",
    "    tmp = ''\n",
    "    result = 0\n",
    "    \n",
    "    while n > 0:\n",
    "        n, r = divmod(n, k)\n",
    "        tmp = T[r] + tmp\n",
    "        \n",
    "    numbers = [int(num) for num in tmp.split('0') if num]\n",
    "    print(numbers)\n",
    "    for n in numbers:\n",
    "        n = int(n)\n",
    "        if not (n == 1 or any([n % i == 0 for i in range(2, int(n**0.5) +1)])):\n",
    "            result += 1\n",
    "            \n",
    "    return result\n",
    "solution(110011, 10)"
   ]
  },
  {
   "cell_type": "code",
   "execution_count": 1,
   "metadata": {},
   "outputs": [
    {
     "data": {
      "text/plain": [
       "'E'"
      ]
     },
     "execution_count": 1,
     "metadata": {},
     "output_type": "execute_result"
    }
   ],
   "source": [
    "def convert(n, k):\n",
    "    T = '0123456789ABCDEF'\n",
    "    tmp = ''\n",
    "    while n > 0:\n",
    "        n, r = divmod(n, k)\n",
    "        tmp = T[r] + tmp\n",
    "    return tmp\n",
    "\n",
    "convert(14, 15)"
   ]
  }
 ],
 "metadata": {
  "kernelspec": {
   "display_name": "Python 3",
   "language": "python",
   "name": "python3"
  },
  "language_info": {
   "codemirror_mode": {
    "name": "ipython",
    "version": 3
   },
   "file_extension": ".py",
   "mimetype": "text/x-python",
   "name": "python",
   "nbconvert_exporter": "python",
   "pygments_lexer": "ipython3",
   "version": "3.12.0"
  }
 },
 "nbformat": 4,
 "nbformat_minor": 2
}
