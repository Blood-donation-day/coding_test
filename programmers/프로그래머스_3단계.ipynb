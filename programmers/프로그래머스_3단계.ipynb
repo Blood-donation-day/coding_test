{
 "cells": [
  {
   "cell_type": "code",
   "execution_count": 7,
   "metadata": {},
   "outputs": [
    {
     "data": {
      "text/plain": [
       "9"
      ]
     },
     "execution_count": 7,
     "metadata": {},
     "output_type": "execute_result"
    }
   ],
   "source": [
    "# 디스크 컨트롤러\n",
    "\n",
    "import heapq as hp\n",
    "\n",
    "def solution(jobs):\n",
    "    answer, now, i = 0,0,0\n",
    "    start = -1\n",
    "    heap = []\n",
    "    \n",
    "    while i < len(jobs):\n",
    "        # 현재 시점에서 처리할 수 있는 작업을 heap에 저장\n",
    "        for j in jobs:\n",
    "            if start < j[0] <= now:\n",
    "                hp.heappush(heap, [j[1], j[0]])\n",
    "\n",
    "        if len(heap) > 0: # 처리할 작업이 있는 경우\n",
    "            cur = hp.heappop(heap)\n",
    "            start = now\n",
    "            now += cur[0]  # 현재시간에 대기시간 추가\n",
    "            answer += now - cur[1] # 작업 요청시간부터 종료시간까지의 시간 계산\n",
    "            i += 1\n",
    "        else: # 처리할 작업이 없는 경우 다음 시간으로 넘어가기\n",
    "            now += 1\n",
    "            \n",
    "    return answer // len(jobs)\n",
    "solution([[0, 3], [1, 9], [2, 6]])"
   ]
  },
  {
   "cell_type": "code",
   "execution_count": 40,
   "metadata": {},
   "outputs": [
    {
     "data": {
      "text/plain": [
       "30"
      ]
     },
     "execution_count": 40,
     "metadata": {},
     "output_type": "execute_result"
    }
   ],
   "source": [
    "# 정수 삼각형  (동적계획법)\n",
    "\n",
    "#정수 삼각형을 뒤집어서 밑에서 부터 큰값으로 계산 >> 마지막 결과를 리턴\n",
    "def solution(triangle):\n",
    "\n",
    "    for i in range(len(triangle)-1, 0, -1):\n",
    "        for j in range(len(triangle[i])-1):\n",
    "            triangle[i-1][j] = max((triangle[i-1][j] +triangle[i][j]), (triangle[i-1][j] + triangle[i][j+1]))\n",
    "    return triangle[0][0]\n",
    "\n",
    "solution([[7], [3, 8], [8, 1, 0], [2, 7, 4, 4], [4, 5, 2, 6, 5]])"
   ]
  },
  {
   "cell_type": "code",
   "execution_count": 53,
   "metadata": {},
   "outputs": [
    {
     "data": {
      "text/plain": [
       "[333, -45]"
      ]
     },
     "execution_count": 53,
     "metadata": {},
     "output_type": "execute_result"
    }
   ],
   "source": [
    "# 이중우선순위큐\n",
    "\n",
    "import heapq as hp\n",
    "\n",
    "def solution(operations):\n",
    "    answer = []\n",
    "    \n",
    "    for op in operations:\n",
    "        a, b = op.split()\n",
    "        if a == 'I':\n",
    "            hp.heappush(answer, int(b))\n",
    "        else:\n",
    "            if answer and b == '1':\n",
    "                answer.pop()\n",
    "            elif answer and b == '-1':\n",
    "                hp.heappop(answer)\n",
    "    \n",
    "    if not answer:\n",
    "        return [0,0]\n",
    "    \n",
    "    return [max(answer), min(answer)]\n",
    "\n",
    "solution([\"I -45\", \"I 653\", \"D 1\", \"I -642\", \"I 45\", \"I 97\", \"D 1\", \"D -1\", \"I 333\"]\t)"
   ]
  },
  {
   "cell_type": "code",
   "execution_count": 63,
   "metadata": {},
   "outputs": [
    {
     "data": {
      "text/plain": [
       "2"
      ]
     },
     "execution_count": 63,
     "metadata": {},
     "output_type": "execute_result"
    }
   ],
   "source": [
    "# 네트워크  (DFS/BFS)\n",
    "\n",
    "def dfs(computer,visited, computers):\n",
    "    stack = [computer]\n",
    "    visited[computer] = True\n",
    "    \n",
    "    while stack:\n",
    "        cur = stack.pop()\n",
    "        for next in range(len(computers[cur])):\n",
    "            if computers[cur][next] and not visited[next]:\n",
    "                stack.append(next)\n",
    "                visited[next] = True\n",
    "\n",
    "\n",
    "def solution(n, computers):\n",
    "    visited = [False] * n\n",
    "    answer = 0\n",
    "    \n",
    "    for computer in range(n):\n",
    "        if not visited[computer]:\n",
    "            dfs(computer, visited, computers)\n",
    "            answer += 1\n",
    "\n",
    "    return answer\n",
    "solution(3, [[1, 1, 0], [1, 1, 0], [0, 0, 1]])\n"
   ]
  },
  {
   "cell_type": "code",
   "execution_count": null,
   "metadata": {},
   "outputs": [],
   "source": [
    "def solution(n, computers):\n",
    "    answer = 0\n",
    "    visited = []\n",
    "\n",
    "    def newRoot (i,n,visited):\n",
    "        for j in range(n):\n",
    "            if computers[i][j] == 1 and j not in visited:\n",
    "                visited.append(j)\n",
    "                newRoot(j,n,visited)\n",
    "\n",
    "    for i in range(n):\n",
    "        if i not in visited :\n",
    "            visited.append(i)\n",
    "            answer = answer+1\n",
    "            newRoot(i,n,visited)\n",
    "\n",
    "    return answer"
   ]
  },
  {
   "cell_type": "code",
   "execution_count": 10,
   "metadata": {},
   "outputs": [
    {
     "name": "stdout",
     "output_type": "stream",
     "text": [
      "[-1, 0]\n",
      "[0, 0]\n",
      "[0, 0]\n"
     ]
    },
    {
     "data": {
      "text/plain": [
       "0"
      ]
     },
     "execution_count": 10,
     "metadata": {},
     "output_type": "execute_result"
    }
   ],
   "source": [
    "# 야근지수\n",
    "\n",
    "#퇴근시간까지 남은 N시간 남은작업량 works\n",
    "import heapq as hp\n",
    "\n",
    "def solution(n, workers):\n",
    "    if n >= sum(workers):\n",
    "        return 0\n",
    "    workers = [-i for i in workers]\n",
    "    \n",
    "    hp.heapify(workers)\n",
    "    for _ in range(n):\n",
    "        work = hp.heappop(workers)\n",
    "        if work < 0:\n",
    "            hp.heappush(workers, work + 1)\n",
    "        \n",
    "    answer = sum([i**2 for i in workers])\n",
    "    return answer\n",
    "\n",
    "solution(3, [1,1])"
   ]
  },
  {
   "cell_type": "code",
   "execution_count": 34,
   "metadata": {},
   "outputs": [
    {
     "data": {
      "text/plain": [
       "[1, 2, 2]"
      ]
     },
     "execution_count": 34,
     "metadata": {},
     "output_type": "execute_result"
    }
   ],
   "source": [
    "# 최고의 집합\n",
    "\n",
    "def solution(n, s):\n",
    "    if n > s:\n",
    "        return [-1]\n",
    "    \n",
    "    answer = [s//n for i in range(n)]\n",
    "    for i in range(s%n):\n",
    "        answer[-i-1] += 1\n",
    "    return answer\n",
    "solution(3, 5)"
   ]
  },
  {
   "cell_type": "code",
   "execution_count": 18,
   "metadata": {},
   "outputs": [
    {
     "data": {
      "text/plain": [
       "3"
      ]
     },
     "execution_count": 18,
     "metadata": {},
     "output_type": "execute_result"
    }
   ],
   "source": [
    "def bfs(start, graph, visited):\n",
    "    \n",
    "    visited[start] = 1\n",
    "    q = [start]\n",
    "    while q:\n",
    "        s = q.pop(0)\n",
    "        for adj_v in graph[s]:\n",
    "            if visited[adj_v] == 0:\n",
    "                visited[adj_v] = visited[s] + 1\n",
    "                q.append(adj_v)\n",
    "\n",
    "    #방문 순서 리스트 리턴\n",
    "    return visited\n",
    "\n",
    "def solution(n, edge):\n",
    "    graph = [[] for _ in range(n+1)]\n",
    "    \n",
    "    for a, b in edge:\n",
    "        graph[a].append(b)\n",
    "        graph[b].append(a)\n",
    "    \n",
    "    visited = [0] * (n+1)\n",
    "    visited = bfs(1, graph, visited)\n",
    "    \n",
    "    # 가장 거리가 먼 노드\n",
    "    max_v = max(visited)\n",
    "    # 가장 먼 노드들을 수\n",
    "    count = visited.count(max_v)\n",
    "    \n",
    "    return count\n",
    "\n",
    "solution(6, [[3, 6], [4, 3], [3, 2], [1, 3], [1, 2], [2, 4], [5, 2]])"
   ]
  },
  {
   "cell_type": "code",
   "execution_count": 126,
   "metadata": {},
   "outputs": [],
   "source": [
    "def solution(n, results):\n",
    "    matrix = [[None for _ in range(n)] for _ in range(n)]\n",
    "    for win, lose in results:\n",
    "        matrix[win-1][lose-1] = True\n",
    "        matrix[lose-1][win-1] = False\n",
    "        \n",
    "    for i in range(n):\n",
    "        for j in range(n):\n",
    "            for k in range(n):\n",
    "                if matrix[j][i] == None:\n",
    "                    continue\n",
    "                    \n",
    "                if matrix[j][i] == matrix[i][k]:\n",
    "                    matrix[j][k] = matrix[j][i]\n",
    "                    matrix[k][j] = not matrix[j][i]\n",
    "                    \n",
    "    answer = 0\n",
    "    for i in range(n):\n",
    "        if None in matrix[i][:i] + matrix[i][i+1:]:\n",
    "            continue\n",
    "        answer += 1\n",
    "    return answer"
   ]
  },
  {
   "cell_type": "code",
   "execution_count": 132,
   "metadata": {},
   "outputs": [
    {
     "name": "stdout",
     "output_type": "stream",
     "text": [
      "defaultdict(<class 'set'>, {1: {2, 3, 4, 5}, 2: {3, 4, 5}, 3: {4, 5}, 4: {5}, 5: set()}) defaultdict(<class 'set'>, {2: {1}, 3: {1, 2}, 4: {1, 2, 3}, 5: {1, 2, 3, 4}, 1: set()})\n"
     ]
    },
    {
     "data": {
      "text/plain": [
       "5"
      ]
     },
     "execution_count": 132,
     "metadata": {},
     "output_type": "execute_result"
    }
   ],
   "source": [
    "from collections import defaultdict\n",
    "\n",
    "def solution(n, results):\n",
    "    answer = 0\n",
    "    win, lose = defaultdict(set), defaultdict(set)\n",
    "    \n",
    "    # 이긴 사람, 진사람들 저장\n",
    "    for wi, los in results:\n",
    "        lose[los].add(wi)\n",
    "        win[wi].add(los)\n",
    "    \n",
    "    #이긴 사람은 그 사람의 모든 진사람들을 이김\n",
    "    for i in range(1, n+1):\n",
    "        for winner in lose[i]:\n",
    "            win[winner].update(win[i])\n",
    "        for loser in win[i]:\n",
    "            lose[loser].update(lose[i])\n",
    "    \n",
    "    for i in range(1, n+1):\n",
    "        if len(win[i]) + len(lose[i]) == n -1:\n",
    "            answer += 1\n",
    "    print(win, lose)\n",
    "    return answer\n",
    "\n",
    "solution(5, [[1, 2], [2, 3], [3, 4], [4, 5]])\n",
    "# solution(5, [[4, 3], [4, 2], [3, 2], [1, 2], [2, 5]])"
   ]
  },
  {
   "cell_type": "code",
   "execution_count": null,
   "metadata": {},
   "outputs": [],
   "source": [
    "from collections import defaultdict\n",
    "\n",
    "def solution(n, results):\n",
    "    answer = 0\n",
    "    win, lose = defaultdict(set), defaultdict(set)\n",
    "    \n",
    "    for wi, los in results:\n",
    "        win[wi].add(los)\n",
    "        lose[los].add[wi]\n",
    "    \n",
    "    for i in range(1, n+1):\n",
    "        for winner in lose[i]:\n",
    "            win[winner].update(win[i])\n",
    "        for loser in win[i]:\n",
    "            lose[loser].update(lose[i])\n",
    "            \n",
    "    for i in range(1, n+1):\n",
    "        if len(win[i]) + len(lose[i]) == n - 1:\n",
    "            answer += 1\n",
    "    \n",
    "    return answer "
   ]
  }
 ],
 "metadata": {
  "kernelspec": {
   "display_name": "Python 3",
   "language": "python",
   "name": "python3"
  },
  "language_info": {
   "codemirror_mode": {
    "name": "ipython",
    "version": 3
   },
   "file_extension": ".py",
   "mimetype": "text/x-python",
   "name": "python",
   "nbconvert_exporter": "python",
   "pygments_lexer": "ipython3",
   "version": "3.12.0"
  }
 },
 "nbformat": 4,
 "nbformat_minor": 2
}
