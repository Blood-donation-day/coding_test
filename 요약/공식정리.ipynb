{
 "cells": [
  {
   "cell_type": "code",
   "execution_count": null,
   "metadata": {},
   "outputs": [],
   "source": [
    "# 유클리드 호제법 (최대공약수 구하기)\n",
    "def gcd(a, b):\n",
    "    if a % b == 0:\n",
    "        return b\n",
    "    else:\n",
    "        return gcd(b, a%b)"
   ]
  },
  {
   "cell_type": "code",
   "execution_count": null,
   "metadata": {},
   "outputs": [],
   "source": [
    "#소인수 분해\n",
    "def factorization(x):\n",
    "    d = 2\n",
    "    output = []\n",
    "    \n",
    "    while d <= x:\n",
    "        if x % d == 0:\n",
    "            output.append(d)\n",
    "            x /= d\n",
    "        else:\n",
    "            d += 1\n",
    "            \n",
    "    return output"
   ]
  },
  {
   "cell_type": "code",
   "execution_count": null,
   "metadata": {},
   "outputs": [],
   "source": [
    "#팩토리얼\n",
    "def factorial(n):\n",
    "    return n * factorial(n-1) if n > 1 else 1"
   ]
  },
  {
   "cell_type": "code",
   "execution_count": 4,
   "metadata": {},
   "outputs": [
    {
     "data": {
      "text/plain": [
       "[1, 2, 4, 17, 34, 67, 68, 134, 268, 1139, 2278, 4556]"
      ]
     },
     "execution_count": 4,
     "metadata": {},
     "output_type": "execute_result"
    }
   ],
   "source": [
    "# 약수 구하기\n",
    "def getMyDivisor(n):\n",
    "    \n",
    "    divisorlist = []\n",
    "    \n",
    "    for i in range(1, int(n**0.5) + 1):\n",
    "        if n % i == 0:\n",
    "            divisorlist.append(i)\n",
    "            if i **2 != n:\n",
    "                divisorlist.append(n // i)\n",
    "    \n",
    "    return sorted(divisorlist)\n",
    "\n",
    "getMyDivisor(4556)"
   ]
  },
  {
   "cell_type": "code",
   "execution_count": 8,
   "metadata": {},
   "outputs": [
    {
     "data": {
      "text/plain": [
       "3"
      ]
     },
     "execution_count": 8,
     "metadata": {},
     "output_type": "execute_result"
    }
   ],
   "source": [
    "# 에라토스테네스의 체\n",
    "# 대량의 소수를 한번에 판별할 때 사용하는 알고리즘\n",
    "\n",
    "def solution(n):\n",
    "    answer = 0\n",
    "    # 배열 생성\n",
    "    array = [True for i in range(n+1)]\n",
    "    \n",
    "    for i in range(2, int(n ** 0.5) + 1):\n",
    "        # i가 소수인 경우 i를 제외한 i의 배수 지우기\n",
    "        if array[i] == True:\n",
    "            j = 2\n",
    "            while i * j <= n:\n",
    "                array[i*j] = False\n",
    "                j += 1\n",
    "    \n",
    "    # True일 것들 (소수)의 개수 더하기\n",
    "    for i in range(2, n+1):\n",
    "        if array[i]:\n",
    "            answer += 1\n",
    "    \n",
    "    return answer\n"
   ]
  },
  {
   "cell_type": "code",
   "execution_count": null,
   "metadata": {},
   "outputs": [],
   "source": [
    "# 더 짧게 구현\n",
    "def solution(n):\n",
    "    num=set(range(2,n+1))\n",
    "\n",
    "    for i in range(2,n+1):\n",
    "        if i in num:\n",
    "            num-=set(range(2*i,n+1,i))\n",
    "    return len(num)"
   ]
  },
  {
   "cell_type": "code",
   "execution_count": null,
   "metadata": {},
   "outputs": [],
   "source": [
    "## __eq__ 매직 메서드를 오버라이딩하여 어떤값과 비교해도 true를 반환하도록\n",
    "# 일종의 정답보기 편법\n",
    "class ALWAYS_CORRECT(object):\n",
    "    def __eq__(self,other):\n",
    "        return True\n",
    "\n",
    "def solution(a):\n",
    "    answer = ALWAYS_CORRECT()\n",
    "    return answer;"
   ]
  }
 ],
 "metadata": {
  "kernelspec": {
   "display_name": "Python 3",
   "language": "python",
   "name": "python3"
  },
  "language_info": {
   "codemirror_mode": {
    "name": "ipython",
    "version": 3
   },
   "file_extension": ".py",
   "mimetype": "text/x-python",
   "name": "python",
   "nbconvert_exporter": "python",
   "pygments_lexer": "ipython3",
   "version": "3.12.0"
  }
 },
 "nbformat": 4,
 "nbformat_minor": 2
}
