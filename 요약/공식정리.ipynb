{
 "cells": [
  {
   "cell_type": "code",
   "execution_count": null,
   "metadata": {},
   "outputs": [],
   "source": [
    "# 유클리드 호제법 (최대공약수 구하기)\n",
    "def gcd(a, b):\n",
    "    if a % b == 0:\n",
    "        return b\n",
    "    else:\n",
    "        return gcd(b, a%b)\n",
    "    \n",
    "\n",
    "# 최대공약수를 활용한 최소공배수 구하기\n",
    "\n",
    "def lcm(a,b):\n",
    "    return a*b / gcd(a,b)"
   ]
  },
  {
   "cell_type": "code",
   "execution_count": null,
   "metadata": {},
   "outputs": [],
   "source": [
    "#소인수 분해\n",
    "def factorization(x):\n",
    "    d = 2\n",
    "    output = []\n",
    "    \n",
    "    while d <= x:\n",
    "        if x % d == 0:\n",
    "            output.append(d)\n",
    "            x /= d\n",
    "        else:\n",
    "            d += 1\n",
    "            \n",
    "    return output"
   ]
  },
  {
   "cell_type": "code",
   "execution_count": null,
   "metadata": {},
   "outputs": [],
   "source": [
    "#팩토리얼\n",
    "def factorial(n):\n",
    "    return n * factorial(n-1) if n > 1 else 1"
   ]
  },
  {
   "cell_type": "code",
   "execution_count": null,
   "metadata": {},
   "outputs": [],
   "source": [
    "# 약수 구하기\n",
    "def getMyDivisor(n):\n",
    "    \n",
    "    divisorlist = []\n",
    "    \n",
    "    for i in range(1, int(n**0.5) + 1):\n",
    "        if n % i == 0:\n",
    "            divisorlist.append(i)\n",
    "            if i **2 != n:\n",
    "                divisorlist.append(n // i)\n",
    "    \n",
    "    return sorted(divisorlist)\n",
    "\n",
    "getMyDivisor(4556)"
   ]
  },
  {
   "cell_type": "code",
   "execution_count": null,
   "metadata": {},
   "outputs": [],
   "source": [
    "# 에라토스테네스의 체\n",
    "# 대량의 소수를 한번에 판별할 때 사용하는 알고리즘\n",
    "\n",
    "def solution(n):\n",
    "    answer = 0\n",
    "    # 배열 생성\n",
    "    array = [True for i in range(n+1)]\n",
    "    \n",
    "    for i in range(2, int(n ** 0.5) + 1):\n",
    "        # i가 소수인 경우 i를 제외한 i의 배수 지우기\n",
    "        if array[i] == True:\n",
    "            j = 2\n",
    "            while i * j <= n:\n",
    "                array[i*j] = False\n",
    "                j += 1\n",
    "    \n",
    "    # True일 것들 (소수)의 개수 더하기\n",
    "    for i in range(2, n+1):\n",
    "        if array[i]:\n",
    "            answer += 1\n",
    "    \n",
    "    return answer\n"
   ]
  },
  {
   "cell_type": "code",
   "execution_count": null,
   "metadata": {},
   "outputs": [],
   "source": [
    "# 더 짧게 구현\n",
    "def solution(n):\n",
    "    num=set(range(2,n+1))\n",
    "\n",
    "    for i in range(2,n+1):\n",
    "        if i in num:\n",
    "            num-=set(range(2*i,n+1,i))\n",
    "    return len(num)"
   ]
  },
  {
   "cell_type": "code",
   "execution_count": null,
   "metadata": {},
   "outputs": [],
   "source": [
    "## __eq__ 매직 메서드를 오버라이딩하여 어떤값과 비교해도 true를 반환하도록\n",
    "# 일종의 정답보기 편법\n",
    "class ALWAYS_CORRECT(object):\n",
    "    def __eq__(self,other):\n",
    "        return True\n",
    "\n",
    "def solution(a):\n",
    "    answer = ALWAYS_CORRECT()\n",
    "    return answer;"
   ]
  },
  {
   "cell_type": "code",
   "execution_count": null,
   "metadata": {},
   "outputs": [],
   "source": [
    "# 10진법 >> n진법 변환\n",
    "\n",
    "import string\n",
    "tmp = string.digits + string.ascii_lowercase\n",
    "def convert(num, base):\n",
    "    q, r = divmod(num, base)\n",
    "    if q == 0:\n",
    "        return tmp[r]\n",
    "    else:\n",
    "        return convert(q, base) + tmp[r]"
   ]
  },
  {
   "cell_type": "code",
   "execution_count": 1,
   "metadata": {},
   "outputs": [
    {
     "name": "stdout",
     "output_type": "stream",
     "text": [
      "배열 90도 회전 [[7, 4, 1], [8, 5, 2], [9, 6, 3]]\n",
      "행과 열 바꾸기 [[1, 4, 7], [2, 5, 8], [3, 6, 9]]\n",
      "[1, 2, 3, 4, 5, 6, 7, 8, 9]\n"
     ]
    }
   ],
   "source": [
    "## 배열 90도회전\n",
    "\n",
    "arr = [[1,2,3],[4,5,6],[7,8,9]]\n",
    "arr = list(map(list, zip(*arr[::-1])))\n",
    "print(f'배열 90도 회전 {arr}')\n",
    "\n",
    "\n",
    "## 행과 열 바꾸기\n",
    "\n",
    "arr = [[1,2,3],[4,5,6],[7,8,9]]\n",
    "arr = list(map(list, zip(*arr)))\n",
    "print(f'행과 열 바꾸기 {arr}')\n",
    "\n",
    "\n",
    "## 2차원 배열 꺼내기\n",
    "\n",
    "arr = [[1,2,3], [4,5,6], [7,8,9]]\n",
    "print(sum(arr, []))"
   ]
  },
  {
   "cell_type": "code",
   "execution_count": 4,
   "metadata": {},
   "outputs": [],
   "source": [
    "# 소수판별기\n",
    "\n",
    "def isprime(num):\n",
    "    return False if num == 1 or any([num % i == 0 for i in range(2, int(num ** 0.5 + 1))]) else True"
   ]
  },
  {
   "cell_type": "code",
   "execution_count": null,
   "metadata": {},
   "outputs": [],
   "source": [
    "# dfs로 구현\n",
    "N = 0\n",
    "answer = 0\n",
    "visited = []\n",
    "\n",
    "def dfs(k, cnt, dungeons):\n",
    "    global answer\n",
    "    print('k=', k, 'cnt=', cnt, visited)\n",
    "    if cnt > answer:\n",
    "        answer = cnt\n",
    "        \n",
    "    for j in range(N):\n",
    "        \n",
    "        if k >= dungeons[j][0] and visited[j] == 0:\n",
    "            visited[j] = 1 # 방문하려는 곳 1체크\n",
    "            dfs(k-dungeons[j][1], cnt+1, dungeons)\n",
    "            visited[j] = 0 # 뒤로가려는 경우 0으로 다시 돌려놓기\n",
    "\n",
    "\n",
    "def solution(k, dungeons):\n",
    "    global N, visited\n",
    "    N = len(dungeons)\n",
    "    visited = [0] * N\n",
    "    dfs(k, 0, dungeons)\n",
    "    return answer\n",
    "\n",
    "solution(80, [[50,40],[50, 30],[30,10],[80,20]])"
   ]
  },
  {
   "cell_type": "code",
   "execution_count": null,
   "metadata": {},
   "outputs": [],
   "source": [
    "# bfs로 구현  (네트워크)\n",
    "\n",
    "def solution(n, computers):\n",
    "    answer = 0\n",
    "\n",
    "    queue = []\n",
    "    visited = []\n",
    "\n",
    "    for a in range(n):\n",
    "        if a not in visited:\n",
    "            queue.append(a)\n",
    "            answer += 1\n",
    "\n",
    "            while queue :\n",
    "                now = queue.pop(0)    \n",
    "                for i in range(n):\n",
    "                    if computers[now][i] == 1 and i not in visited:\n",
    "                        visited.append(i)\n",
    "                        queue.append(i)\n",
    "    return answer"
   ]
  }
 ],
 "metadata": {
  "kernelspec": {
   "display_name": "Python 3",
   "language": "python",
   "name": "python3"
  },
  "language_info": {
   "codemirror_mode": {
    "name": "ipython",
    "version": 3
   },
   "file_extension": ".py",
   "mimetype": "text/x-python",
   "name": "python",
   "nbconvert_exporter": "python",
   "pygments_lexer": "ipython3",
   "version": "3.12.0"
  }
 },
 "nbformat": 4,
 "nbformat_minor": 2
}
