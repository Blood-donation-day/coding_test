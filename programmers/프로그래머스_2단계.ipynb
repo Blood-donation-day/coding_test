{
 "cells": [
  {
   "cell_type": "code",
   "execution_count": null,
   "metadata": {},
   "outputs": [],
   "source": [
    "# 피보나치 수\n",
    "\n",
    "def solution(n):\n",
    "    fibodict = {0:0, 1:1}\n",
    "    for i in range(2, n+1):\n",
    "        fibodict[i] = fibodict[i-2] + fibodict[i-1]\n",
    "    return fibodict[n] % 1234567\n",
    "\n",
    "solution(100000)"
   ]
  },
  {
   "cell_type": "code",
   "execution_count": null,
   "metadata": {},
   "outputs": [],
   "source": [
    "# 카펫\n",
    "\n",
    "def solution(brown, yellow):\n",
    "    w, h = 3, 3\n",
    "    \n",
    "    while True:\n",
    "        yel = (w-2) * (h-2)\n",
    "        bro = w*h - yel\n",
    "        \n",
    "        if yellow == yel and bro == brown:\n",
    "            return [w, h]\n",
    "        elif yellow > yel and bro == brown:\n",
    "            w -= 1\n",
    "            h += 1\n",
    "        else:\n",
    "            w += 1\n",
    "    \n",
    "solution(24,24)"
   ]
  },
  {
   "cell_type": "code",
   "execution_count": null,
   "metadata": {},
   "outputs": [],
   "source": [
    "# 영어 끝말잇기\n",
    "\n",
    "def solution(n, words):\n",
    "    words_set = set()\n",
    "    words_set.add(words[0])\n",
    "    \n",
    "    for i in range(1, len(words)):\n",
    "        if (words[i] in words_set) or (words[i-1][-1] != words[i][0]):\n",
    "            return [(i%n)+1, (i//n) +1]\n",
    "        \n",
    "        words_set.add(words[i])\n",
    "    \n",
    "    return [0,0]\n",
    "        \n",
    "solution(3, [\"tank\", \"kick\", \"know\", \"wheel\", \"land\", \"dream\", \"mother\", \"robot\", \"tank\"])"
   ]
  },
  {
   "cell_type": "code",
   "execution_count": null,
   "metadata": {},
   "outputs": [],
   "source": [
    "# 점프와 순간 이동\n",
    "\n",
    "def solution(n):\n",
    "    result = 1\n",
    "    while n != 1:\n",
    "        if n % 2 == 1:\n",
    "            result += 1\n",
    "            n -= 1\n",
    "        else:\n",
    "            n /= 2\n",
    "\n",
    "    return result\n",
    "\n",
    "solution(5000)"
   ]
  },
  {
   "cell_type": "code",
   "execution_count": null,
   "metadata": {},
   "outputs": [],
   "source": [
    "# 구명보트\n",
    "from collections import deque as dq\n",
    "def solution(people, limit):\n",
    "    people.sort()\n",
    "    people = dq(people)\n",
    "    count = 0\n",
    "    \n",
    "    while len(people) > 0:\n",
    "        people1 = people.pop()\n",
    "        if len(people) > 0 and people[0] + people1 <= limit:\n",
    "            people.popleft()\n",
    "        count += 1\n",
    "\n",
    "    return count\n",
    "\n",
    "solution([70, 50, 80, 50, 80, 90], 100)"
   ]
  },
  {
   "cell_type": "code",
   "execution_count": null,
   "metadata": {},
   "outputs": [],
   "source": [
    "def solution(people, limit) :\n",
    "    answer = 0\n",
    "    people.sort()\n",
    "\n",
    "    a = 0\n",
    "    b = len(people) - 1\n",
    "    # 보트에 2명 탑승한 경우\n",
    "    while a < b :\n",
    "        if people[b] + people[a] <= limit :\n",
    "            a += 1\n",
    "            answer += 1\n",
    "        b -= 1\n",
    "    return len(people) - answer"
   ]
  },
  {
   "cell_type": "code",
   "execution_count": null,
   "metadata": {},
   "outputs": [],
   "source": [
    "# 예상 대진표\n",
    "\n",
    "def solution(n, a, b):\n",
    "    count = 1\n",
    "    arr = sorted([a, b])\n",
    "    a, b = arr[0], arr[1]\n",
    "    \n",
    "    while not (a % 2 == 1 and b % 2 == 0 and b-a == 1):\n",
    "        a = a // 2 + a % 2\n",
    "        b = b // 2  + b % 2\n",
    "        count += 1\n",
    "\n",
    "    return count\n",
    "\n",
    "solution(8, 4, 7)"
   ]
  },
  {
   "cell_type": "code",
   "execution_count": null,
   "metadata": {},
   "outputs": [],
   "source": [
    "# N개의 최소공배수\n",
    "\n",
    "def solution(arr):\n",
    "    arr.sort(reverse = True)\n",
    "    result = arr[0]\n",
    "    def gcd(a, b):\n",
    "        if a % b == 0:\n",
    "            return b\n",
    "        else:\n",
    "            return gcd(b, a % b)\n",
    "    \n",
    "    def lcm(a, b):\n",
    "        return int(a * b / gcd(a, b))\n",
    "    \n",
    "    for i in range(1, len(arr)):\n",
    "        result = lcm(result, arr[i])\n",
    "    \n",
    "    return result\n",
    "\n",
    "\n",
    "\n",
    "solution([2,6,8,14])"
   ]
  },
  {
   "cell_type": "code",
   "execution_count": null,
   "metadata": {},
   "outputs": [],
   "source": [
    "# 멀리 뛰기\n",
    "\n",
    "def solution(n):\n",
    "    jumpdict = {1:1, 2:2}\n",
    "    for i in range(3, n+1):\n",
    "        jumpdict[i] = jumpdict[i-2] + jumpdict[i-1]\n",
    "    \n",
    "    return jumpdict[n] % 1234567\n",
    "\n",
    "solution(10000)"
   ]
  },
  {
   "cell_type": "code",
   "execution_count": null,
   "metadata": {},
   "outputs": [],
   "source": [
    "# 귤 고르기\n",
    "\n",
    "from collections import Counter\n",
    "def solution(k, tangerine):\n",
    "    arr = Counter(tangerine).most_common()\n",
    "    count = 0\n",
    "    while k > 0:\n",
    "        k -= arr[count][1]\n",
    "        count += 1\n",
    "    return count\n",
    "solution(2, [1, 1, 1, 1, 2, 2, 2, 3])"
   ]
  },
  {
   "cell_type": "code",
   "execution_count": 86,
   "metadata": {},
   "outputs": [
    {
     "data": {
      "text/plain": [
       "18"
      ]
     },
     "execution_count": 86,
     "metadata": {},
     "output_type": "execute_result"
    }
   ],
   "source": [
    "# 연속 부분 수열 합의 개수\n",
    "\n",
    "def solution(elements):\n",
    "    result = set()\n",
    "    \n",
    "    for n in range(1, len(elements)+1):\n",
    "        arr = []\n",
    "        for i in elements * 2:\n",
    "            arr.append(i)\n",
    "            if len(arr) > n:\n",
    "                arr.pop(0)\n",
    "            result.add(sum(arr))\n",
    "    \n",
    "    return len(result)\n",
    "solution([7,9,1,1,4])"
   ]
  },
  {
   "cell_type": "code",
   "execution_count": 122,
   "metadata": {},
   "outputs": [
    {
     "data": {
      "text/plain": [
       "1"
      ]
     },
     "execution_count": 122,
     "metadata": {},
     "output_type": "execute_result"
    }
   ],
   "source": [
    "# 괄호 회전하기\n",
    "\n",
    "def solution(s):\n",
    "    count = 0\n",
    "    pairdict = {}"
   ]
  },
  {
   "cell_type": "code",
   "execution_count": 119,
   "metadata": {},
   "outputs": [
    {
     "name": "stdout",
     "output_type": "stream",
     "text": [
      "[1, 2, 3, 4, 5]\n",
      "[2, 3, 4, 5, 1]\n",
      "[3, 4, 5, 1, 2]\n",
      "[4, 5, 1, 2, 3]\n",
      "[5, 1, 2, 3, 4]\n"
     ]
    }
   ],
   "source": [
    "a = [1,2,3,4,5]\n",
    "\n",
    "for i in range(len(a)):\n",
    "    aa = a[i:] + a[:i]\n",
    "    print(aa)"
   ]
  }
 ],
 "metadata": {
  "kernelspec": {
   "display_name": "Python 3",
   "language": "python",
   "name": "python3"
  },
  "language_info": {
   "codemirror_mode": {
    "name": "ipython",
    "version": 3
   },
   "file_extension": ".py",
   "mimetype": "text/x-python",
   "name": "python",
   "nbconvert_exporter": "python",
   "pygments_lexer": "ipython3",
   "version": "3.12.0"
  }
 },
 "nbformat": 4,
 "nbformat_minor": 2
}
