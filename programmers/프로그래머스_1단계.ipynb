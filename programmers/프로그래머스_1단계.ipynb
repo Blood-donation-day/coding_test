{
 "cells": [
  {
   "cell_type": "markdown",
   "metadata": {},
   "source": [
    "## 덧칠하기\n",
    "어느 학교에 페인트가 칠해진 길이가 n미터인 벽이 있습니다. 벽에 동아리 · 학회 홍보나 회사 채용 공고 포스터 등을 게시하기 위해 테이프로 붙였다가 철거할 때 떼는 일이 많고 그 과정에서 페인트가 벗겨지곤 합니다. 페인트가 벗겨진 벽이 보기 흉해져 학교는 벽에 페인트를 덧칠하기로 했습니다.\n",
    "\n",
    "넓은 벽 전체에 페인트를 새로 칠하는 대신, 구역을 나누어 일부만 페인트를 새로 칠 함으로써 예산을 아끼려 합니다. 이를 위해 벽을 1미터 길이의 구역 n개로 나누고, 각 구역에 왼쪽부터 순서대로 1번부터 n번까지 번호를 붙였습니다. 그리고 페인트를 다시 칠해야 할 구역들을 정했습니다.\n",
    "\n",
    "벽에 페인트를 칠하는 롤러의 길이는 m미터이고, 롤러로 벽에 페인트를 한 번 칠하는 규칙은 다음과 같습니다.\n",
    "\n",
    "롤러가 벽에서 벗어나면 안 됩니다.\n",
    "구역의 일부분만 포함되도록 칠하면 안 됩니다.\n",
    "즉, 롤러의 좌우측 끝을 구역의 경계선 혹은 벽의 좌우측 끝부분에 맞춘 후 롤러를 위아래로 움직이면서 벽을 칠합니다. 현재 페인트를 칠하는 구역들을 완전히 칠한 후 벽에서 롤러를 떼며, 이를 벽을 한 번 칠했다고 정의합니다.\n",
    "\n",
    "한 구역에 페인트를 여러 번 칠해도 되고 다시 칠해야 할 구역이 아닌 곳에 페인트를 칠해도 되지만 다시 칠하기로 정한 구역은 적어도 한 번 페인트칠을 해야 합니다. 예산을 아끼기 위해 다시 칠할 구역을 정했듯 마찬가지로 롤러로 페인트칠을 하는 횟수를 최소화하려고 합니다.\n",
    "\n",
    "정수 n, m과 다시 페인트를 칠하기로 정한 구역들의 번호가 담긴 정수 배열 section이 매개변수로 주어질 때 롤러로 페인트칠해야 하는 최소 횟수를 return 하는 solution 함수를 작성해 주세요."
   ]
  },
  {
   "cell_type": "code",
   "execution_count": null,
   "metadata": {},
   "outputs": [],
   "source": [
    "from collections import deque\n",
    "def solution(n, m, section):\n",
    "    arr= deque(section)\n",
    "    count = 1\n",
    "\n",
    "    # section[0]부터 m길이의 벽을 칠함\n",
    "    flag = section[0] + m -1\n",
    "\n",
    "    while arr:\n",
    "        \n",
    "        #flag보다 작으면 pop\n",
    "        if arr[0] <= flag:\n",
    "            arr.popleft()\n",
    "        \n",
    "        #아니면 flag 재지정\n",
    "        else:\n",
    "            count+=1\n",
    "            flag = arr[0] +m -1\n",
    "\n",
    "    return count\n",
    "\n",
    "solution(50, 3, [i for i in range(1, 100000, 5)]) #거리가 있을때 지우는것 붙어있을 때 지우는거"
   ]
  },
  {
   "cell_type": "code",
   "execution_count": null,
   "metadata": {},
   "outputs": [],
   "source": [
    "def solution(n, m, section):\n",
    "    count = 0\n",
    "    aa= 0\n",
    "\n",
    "    for i in section:\n",
    "        if aa < i:\n",
    "            count += 1\n",
    "            aa = i + m - 1\n",
    "\n",
    "    return count\n",
    "\n",
    "solution(50, 3, [i for i in range(1, 100000, 5)])"
   ]
  },
  {
   "cell_type": "markdown",
   "metadata": {},
   "source": [
    "## 대충만든 자판\n",
    "휴대폰의 자판은 컴퓨터 키보드 자판과는 다르게 하나의 키에 여러 개의 문자가 할당될 수 있습니다. 키 하나에 여러 문자가 할당된 경우, 동일한 키를 연속해서 빠르게 누르면 할당된 순서대로 문자가 바뀝니다.\n",
    "\n",
    "예를 들어, 1번 키에 \"A\", \"B\", \"C\" 순서대로 문자가 할당되어 있다면 1번 키를 한 번 누르면 \"A\", 두 번 누르면 \"B\", 세 번 누르면 \"C\"가 되는 식입니다.\n",
    "\n",
    "같은 규칙을 적용해 아무렇게나 만든 휴대폰 자판이 있습니다. 이 휴대폰 자판은 키의 개수가 1개부터 최대 100개까지 있을 수 있으며, 특정 키를 눌렀을 때 입력되는 문자들도 무작위로 배열되어 있습니다. 또, 같은 문자가 자판 전체에 여러 번 할당된 경우도 있고, 키 하나에 같은 문자가 여러 번 할당된 경우도 있습니다. 심지어 아예 할당되지 않은 경우도 있습니다. 따라서 몇몇 문자열은 작성할 수 없을 수도 있습니다.\n",
    "\n",
    "이 휴대폰 자판을 이용해 특정 문자열을 작성할 때, 키를 최소 몇 번 눌러야 그 문자열을 작성할 수 있는지 알아보고자 합니다.\n",
    "\n",
    "1번 키부터 차례대로 할당된 문자들이 순서대로 담긴 문자열배열 keymap과 입력하려는 문자열들이 담긴 문자열 배열 targets가 주어질 때, 각 문자열을 작성하기 위해 키를 최소 몇 번씩 눌러야 하는지 순서대로 배열에 담아 return 하는 solution 함수를 완성해 주세요.\n",
    "\n",
    "단, 목표 문자열을 작성할 수 없을 때는 -1을 저장합니다.\n",
    "\n",
    "keymap\ttargets\tresult\n",
    "[\"ABACD\", \"BCEFD\"]\t[\"ABCD\",\"AABB\"]\t[9, 4]\n",
    "[\"AA\"]\t[\"B\"]\t[-1]\n",
    "[\"AGZ\", \"BSSS\"]\t[\"ASA\",\"BGZ\"]\t[4, 6]"
   ]
  },
  {
   "cell_type": "code",
   "execution_count": null,
   "metadata": {},
   "outputs": [],
   "source": [
    "def solution(keymap, targets):\n",
    "    result = []\n",
    "\n",
    "    #모든 키에 대해 최소로 누눌 수 있는 횟수 저장\n",
    "    keymaps = {}\n",
    "    for keys in keymap:\n",
    "        for i, key in enumerate(keys):\n",
    "            if key not in keymaps:\n",
    "                keymaps[key] = i + 1\n",
    "            else:\n",
    "                keymaps[key] = min(keymaps[key], i +1 )\n",
    "\n",
    "    for target in targets:\n",
    "        click = 0\n",
    "        for tar in target:\n",
    "            if tar in keymaps:\n",
    "                click += keymaps[tar]\n",
    "            else:\n",
    "                click = -1\n",
    "                break\n",
    "        result.append(click)\n",
    "\n",
    "\n",
    "    return result\n",
    "\n",
    "solution([\"AZG\", \"BSSS\"], [\"ASA\",\"BGZ\"])\n"
   ]
  },
  {
   "cell_type": "markdown",
   "metadata": {},
   "source": [
    "## 같은 숫자는 싫어\n",
    "배열 arr가 주어집니다. 배열 arr의 각 원소는 숫자 0부터 9까지로 이루어져 있습니다. 이때, 배열 arr에서 연속적으로 나타나는 숫자는 하나만 남기고 전부 제거하려고 합니다. 단, 제거된 후 남은 수들을 반환할 때는 배열 arr의 원소들의 순서를 유지해야 합니다. 예를 들면,\n",
    "\n",
    "arr = [1, 1, 3, 3, 0, 1, 1] 이면 [1, 3, 0, 1] 을 return 합니다.\n",
    "arr = [4, 4, 4, 3, 3] 이면 [4, 3] 을 return 합니다.\n",
    "배열 arr에서 연속적으로 나타나는 숫자는 제거하고 남은 수들을 return 하는 solution 함수를 완성해 주세요.\n",
    "\n",
    "제한사항\n",
    "배열 arr의 크기 : 1,000,000 이하의 자연수\n",
    "배열 arr의 원소의 크기 : 0보다 크거나 같고 9보다 작거나 같은 정수"
   ]
  },
  {
   "cell_type": "code",
   "execution_count": null,
   "metadata": {},
   "outputs": [],
   "source": [
    "def solution(arr):\n",
    "    previous_num = -1\n",
    "    newarr = []\n",
    "    for i in arr:\n",
    "        \n",
    "        if i != previous_num:\n",
    "            newarr.append(i)\n",
    "            previous_num = i\n",
    "    return newarr\n",
    "\n",
    "solution([4,4,4,3,3])"
   ]
  },
  {
   "cell_type": "markdown",
   "metadata": {},
   "source": [
    "## 저주의 숫자 3\n",
    "3x 마을 사람들은 3을 저주의 숫자라고 생각하기 때문에 3의 배수와 숫자 3을 사용하지 않습니다. 3x 마을 사람들의 숫자는 다음과 같습니다.\n",
    "\n",
    "10진법\t3x 마을에서 쓰는 숫자\t10진법\t3x 마을에서 쓰는 숫자\n",
    "1\t1\t6\t8\n",
    "2\t2\t7\t10\n",
    "3\t4\t8\t11\n",
    "4\t5\t9\t14\n",
    "5\t7\t10\t16\n",
    "정수 n이 매개변수로 주어질 때, n을 3x 마을에서 사용하는 숫자로 바꿔 return하도록 solution 함수를 완성해주세요."
   ]
  },
  {
   "cell_type": "code",
   "execution_count": null,
   "metadata": {},
   "outputs": [],
   "source": [
    "def x3(n):\n",
    "    #3 의 배수 및 숫자 3\n",
    "    result = list(filter(lambda n : '3' not in str(n) and '5' not in str(n) and '9' not in str(n), range(0, 999)))\n",
    "    return result[n]\n",
    "\n",
    "x3(15)"
   ]
  },
  {
   "cell_type": "code",
   "execution_count": null,
   "metadata": {},
   "outputs": [],
   "source": [
    "def solution(n):\n",
    "    count = 0\n",
    "    for i in range(n):\n",
    "        count += 1\n",
    "        while count%3 == 0 or '3' in str(count):\n",
    "            count += 1\n",
    "    return count\n",
    "\n",
    "list(map(solution, range(1, 16)))"
   ]
  },
  {
   "cell_type": "markdown",
   "metadata": {},
   "source": [
    "합성수 찾기\n",
    "약수의 개수가 세 개 이상인 수를 합성수라고 합니다. 자연수 n이 매개변수로 주어질 때 n이하의 합성수의 개수를 return하도록 solution 함수를 완성해주세요."
   ]
  },
  {
   "cell_type": "code",
   "execution_count": null,
   "metadata": {},
   "outputs": [],
   "source": [
    "def divisor(num):\n",
    "    count = 0\n",
    "    for aa in range(1, num+1):\n",
    "        if num % aa == 0:\n",
    "            count += 1\n",
    "    return count\n",
    "\n",
    "def solution(n):\n",
    "    result = []\n",
    "    for i in range(1, n+1):\n",
    "        if divisor(i) >= 3:\n",
    "            result.append(i)\n",
    "        \n",
    "    return len(result)\n",
    "\n",
    "solution(100)"
   ]
  },
  {
   "cell_type": "code",
   "execution_count": null,
   "metadata": {},
   "outputs": [],
   "source": [
    "def solution(n):\n",
    "    return len([i for i in range(4, n+1) if i % 2 == 0 or i % 3 == 0])\n",
    "\n",
    "solution(15)"
   ]
  },
  {
   "cell_type": "code",
   "execution_count": null,
   "metadata": {},
   "outputs": [],
   "source": [
    "# 여기서는 안돌아감\n",
    "import time\n",
    "import asyncio\n",
    "\n",
    "async def foo():\n",
    "    res = 0\n",
    "    \n",
    "    for i in range(1, 11):\n",
    "        res += i\n",
    "        print(res)\n",
    "        await asyncio.sleep(1)\n",
    "        \n",
    "    return res\n",
    "\n",
    "\n",
    "start = time.time()\n",
    "\n",
    "loop = asyncio.get_event_loop()\n",
    "loop.run_until_complete(asyncio.gather(foo(), foo()))\n",
    "loop.close()\n",
    "\n",
    "end = time.time()\n",
    "\n",
    "\n",
    "over_time = round(end - start, 3)\n",
    "print(f'걸린시간 : {over_time}')"
   ]
  },
  {
   "cell_type": "code",
   "execution_count": null,
   "metadata": {},
   "outputs": [],
   "source": [
    "def a1000(value):\n",
    "    def wrapper(*args):\n",
    "        print('1000 더하는 함수임 다음에 +1000 할게')\n",
    "        result = value(*args)\n",
    "        return result + 1000\n",
    "    return wrapper\n",
    "\n",
    "\n",
    "@a1000\n",
    "def square(num):\n",
    "    print('이건 제곱함수임 넣는 수를 제곱해서 반환해줌')\n",
    "    num = num**2\n",
    "    return num\n",
    "\n",
    "square(10)\n"
   ]
  },
  {
   "cell_type": "markdown",
   "metadata": {},
   "source": [
    "## 문자열 내림차순으로 배치하기\n",
    "문자열 s에 나타나는 문자를 큰것부터 작은 순으로 정렬해 새로운 문자열을 리턴하는 함수, solution을 완성해주세요.\n",
    "s는 영문 대소문자로만 구성되어 있으며, 대문자는 소문자보다 작은 것으로 간주합니다."
   ]
  },
  {
   "cell_type": "code",
   "execution_count": null,
   "metadata": {},
   "outputs": [],
   "source": [
    "# 이게 왜 레벨1이지? \n",
    "def solution(s):\n",
    "    return ''.join(sorted(s, reverse=True))\n",
    "\n",
    "solution(\"Zbcdefg\")"
   ]
  },
  {
   "cell_type": "markdown",
   "metadata": {},
   "source": [
    "## 안전지대\n",
    "다음 그림과 같이 지뢰가 있는 지역과 지뢰에 인접한 위, 아래, 좌, 우 대각선 칸을 모두 위험지역으로 분류합니다.\n",
    "<img src=\"https://grepp-programmers.s3.ap-northeast-2.amazonaws.com/files/production/124a2c93-da99-4643-96a8-292bb871f553/image.png\">\n",
    "\n",
    "지뢰는 2차원 배열 board에 1로 표시되어 있고 board에는 지뢰가 매설 된 지역 1과, 지뢰가 없는 지역 0만 존재합니다.\n",
    "지뢰가 매설된 지역의 지도 board가 매개변수로 주어질 때, 안전한 지역의 칸 수를 return하도록 solution 함수를 완성해주세요."
   ]
  },
  {
   "cell_type": "code",
   "execution_count": null,
   "metadata": {},
   "outputs": [],
   "source": [
    "def solution(board):\n",
    "    rows, cols = len(board), len(board[0])\n",
    "    directions = [(1, 0), (-1, 0), (0, 1), (0, -1), (1, 1), (1, -1), (-1, 1), (-1, -1)]\n",
    "    safe_count = 0\n",
    "    \n",
    "    for row in range(rows):\n",
    "        #2차원 배열에서 원소하나씩 전부 체크\n",
    "        for col in range(cols):\n",
    "            \n",
    "            if board[row][col] == 1:\n",
    "                continue\n",
    "            \n",
    "            is_safe = True\n",
    "            #주위 8칸 체크\n",
    "            for dx, dy in directions:\n",
    "                x, y = row + dx, col + dy\n",
    "                \n",
    "                #2차원 배열에서 유효한 위치인지 체크\n",
    "                if 0 <= x < rows and 0 <= y < cols:\n",
    "                    if board[x][y] == 1:\n",
    "                        is_safe = False\n",
    "                        break\n",
    "            if is_safe:\n",
    "                safe_count += 1\n",
    "    return safe_count\n",
    "\n",
    "solution([[0, 0, 0, 0, 0], [0, 0, 0, 0, 0], [0, 0, 0, 0, 0], [0, 0, 1, 0, 0], [0, 0, 0, 0, 0]])"
   ]
  },
  {
   "cell_type": "code",
   "execution_count": null,
   "metadata": {},
   "outputs": [],
   "source": [
    "#안전지대 \n",
    "# 배열은 n * n\n",
    "#2차원 배열에서 모든 요소 한번씩 찍어보면서 1이면 주변 8칸 체크\n",
    "# 한쪽이 막힌 경우도 확인해야해.\n",
    "\n",
    "\n",
    "def solution(board):\n",
    "    checks = [(0, -1), (0, 1), (-1, -1), (-1, 0), (-1, 1), (1, -1), (1, 0), (1, 1)]\n",
    "    count = 0\n",
    "    N = len(board)\n",
    "    \n",
    "    for y in range(N):\n",
    "        for x in range(N):\n",
    "            \n",
    "            if board[y][x] == 1:\n",
    "                continue\n",
    "    \n",
    "            safe = True\n",
    "            for dx, dy in checks:\n",
    "                x8, y8 = x + dx, y + dy\n",
    "                \n",
    "                if 0 <= x8 < N and 0<= y8 < N:\n",
    "                    if board[y8][x8] == 1:\n",
    "                        safe = False\n",
    "                        break\n",
    "            \n",
    "            if safe == True:\n",
    "                count += 1\n",
    "    return count\n",
    "                \n",
    "solution([[0, 0, 0, 0, 0], [0, 0, 0, 0, 0], [0, 0, 0, 0, 0], [0, 0, 1, 0, 0], [0, 0, 0, 0, 0]])\n",
    "    "
   ]
  },
  {
   "cell_type": "markdown",
   "metadata": {},
   "source": [
    "## 예산\n",
    "S사에서는 각 부서에 필요한 물품을 지원해 주기 위해 부서별로 물품을 구매하는데 필요한 금액을 조사했습니다. 그러나, 전체 예산이 정해져 있기 때문에 모든 부서의 물품을 구매해 줄 수는 없습니다. 그래서 최대한 많은 부서의 물품을 구매해 줄 수 있도록 하려고 합니다.\n",
    "\n",
    "물품을 구매해 줄 때는 각 부서가 신청한 금액만큼을 모두 지원해 줘야 합니다. 예를 들어 1,000원을 신청한 부서에는 정확히 1,000원을 지원해야 하며, 1,000원보다 적은 금액을 지원해 줄 수는 없습니다.\n",
    "\n",
    "부서별로 신청한 금액이 들어있는 배열 d와 예산 budget이 매개변수로 주어질 때, 최대 몇 개의 부서에 물품을 지원할 수 있는지 return 하도록 solution 함수를 완성해주세요.\n",
    "\n",
    "제한사항\n",
    "d는 부서별로 신청한 금액이 들어있는 배열이며, 길이(전체 부서의 개수)는 1 이상 100 이하입니다.\n",
    "d의 각 원소는 부서별로 신청한 금액을 나타내며, 부서별 신청 금액은 1 이상 100,000 이하의 자연수입니다.\n",
    "budget은 예산을 나타내며, 1 이상 10,000,000 이하의 자연수입니다."
   ]
  },
  {
   "cell_type": "code",
   "execution_count": null,
   "metadata": {},
   "outputs": [],
   "source": [
    "def solution(d, budget):\n",
    "    d.sort()  # 부서들의 예산 요청을 오름차순 정렬\n",
    "    count = 0\n",
    "    \n",
    "    for req in d:\n",
    "        if budget < req:\n",
    "            break\n",
    "        budget -= req\n",
    "        count += 1\n",
    "    \n",
    "    return count"
   ]
  },
  {
   "cell_type": "code",
   "execution_count": null,
   "metadata": {},
   "outputs": [],
   "source": [
    "def solution(d, budget):\n",
    "    d.sort()  # 부서들의 예산 요청을 오름차순 정렬\n",
    "    \n",
    "    while budget < sum(d):\n",
    "        d.pop()\n",
    "\n",
    "    return len(d)"
   ]
  },
  {
   "cell_type": "markdown",
   "metadata": {},
   "source": [
    "## 약수의 개수와 덧셈\n",
    "두 정수 left와 right가 매개변수로 주어집니다. left부터 right까지의 모든 수들 중에서, 약수의 개수가 짝수인 수는 더하고, 약수의 개수가 홀수인 수는 뺀 수를 return 하도록 solution 함수를 완성해주세요."
   ]
  },
  {
   "cell_type": "code",
   "execution_count": null,
   "metadata": {},
   "outputs": [],
   "source": [
    "def solution(left, right):\n",
    "    odd = []\n",
    "    even = []\n",
    "    \n",
    "    for i in range(left, right+1):\n",
    "        count = 0\n",
    "        \n",
    "        for num in range(1, i+1):\n",
    "            if i % num == 0:\n",
    "                count += 1\n",
    "        \n",
    "        if count % 2 == 0:\n",
    "            even.append(i)\n",
    "        else:\n",
    "            odd.append(i)\n",
    "    \n",
    "    return sum(even) - sum(odd)\n",
    "\n",
    "solution(13, 17)"
   ]
  },
  {
   "cell_type": "code",
   "execution_count": null,
   "metadata": {},
   "outputs": [],
   "source": [
    "#  제곱 수는 약수의 개수가 홀수\n",
    "\n",
    "def solution(left, right):\n",
    "    result = 0\n",
    "    for i in range(left, right+1):\n",
    "        if int(i**0.5) == i**0.5:\n",
    "            result -= i\n",
    "        else:\n",
    "            result += i\n",
    "    return result\n",
    "solution(13,17)"
   ]
  },
  {
   "cell_type": "markdown",
   "metadata": {},
   "source": [
    "## 평균 구하기\n",
    "정수를 담고 있는 배열 arr의 평균값을 return하는 함수, solution을 완성해보세요."
   ]
  },
  {
   "cell_type": "code",
   "execution_count": null,
   "metadata": {},
   "outputs": [],
   "source": [
    "def solution(arr):\n",
    "    return sum(arr) / len(arr)"
   ]
  },
  {
   "cell_type": "markdown",
   "metadata": {},
   "source": [
    "## 나머지가 이 되는 수 찾기\n",
    "자연수 n이 매개변수로 주어집니다. n을 x로 나눈 나머지가 1이 되도록 하는 가장 작은 자연수 x를 return 하도록 solution 함수를 완성해주세요. 답이 항상 존재함은 증명될 수 있습니다."
   ]
  },
  {
   "cell_type": "code",
   "execution_count": null,
   "metadata": {},
   "outputs": [],
   "source": [
    "def solution(n):\n",
    "    mul = 2\n",
    "    \n",
    "    while n >= 3:\n",
    "        if n % mul == 1:\n",
    "            return mul\n",
    "        \n",
    "        else:\n",
    "            mul += 1\n",
    "    \n",
    "    return mul\n",
    "\n",
    "solution(456)"
   ]
  },
  {
   "cell_type": "code",
   "execution_count": null,
   "metadata": {},
   "outputs": [],
   "source": [
    "def solution(n):\n",
    "    result = []\n",
    "    mul = 2\n",
    "    while n > 1:\n",
    "        if n % mul == 0:\n",
    "            n = n / mul\n",
    "            result.append(mul)\n",
    "            mul = 2\n",
    "        else:\n",
    "            mul += 1\n",
    "    result = list(set(result))\n",
    "    result.sort()\n",
    "    return result\n",
    "\n",
    "solution(12)"
   ]
  },
  {
   "cell_type": "markdown",
   "metadata": {},
   "source": [
    "## 짝수와 홀수\n",
    "정수 num이 짝수일 경우 \"Even\"을 반환하고 홀수인 경우 \"Odd\"를 반환하는 함수, solution을 완성해주세요."
   ]
  },
  {
   "cell_type": "code",
   "execution_count": null,
   "metadata": {},
   "outputs": [],
   "source": [
    "def solution(num):\n",
    "    return \"Odd\" if num % 2 == 1 else \"Even\""
   ]
  },
  {
   "cell_type": "markdown",
   "metadata": {},
   "source": [
    "## 문자열을 정수로 바꾸기\n",
    "문자열 s를 숫자로 변환한 결과를 반환하는 함수, solution을 완성하세요."
   ]
  },
  {
   "cell_type": "code",
   "execution_count": null,
   "metadata": {},
   "outputs": [],
   "source": [
    "def solution(s):\n",
    "    return str(s) if type(s) == int else int(s)\n",
    "\n",
    "solution(1234)"
   ]
  },
  {
   "cell_type": "markdown",
   "metadata": {},
   "source": [
    "## 약수의 합\n",
    "정수 n을 입력받아 n의 약수를 모두 더한 값을 리턴하는 함수, solution을 완성해주세요."
   ]
  },
  {
   "cell_type": "code",
   "execution_count": null,
   "metadata": {},
   "outputs": [],
   "source": [
    "def solution(n):\n",
    "    \n",
    "    result = []\n",
    "    \n",
    "    for i in range(1, n+1 ):\n",
    "        if n % i == 0:\n",
    "            result.append(i)\n",
    "            \n",
    "    return sum(result)\n",
    "\n",
    "solution(12)"
   ]
  },
  {
   "cell_type": "code",
   "execution_count": null,
   "metadata": {},
   "outputs": [],
   "source": [
    "def solution(n):\n",
    "    return sum((filter(lambda x: n % x == 0, range(1, n+1))))\n",
    "\n",
    "solution(12)"
   ]
  },
  {
   "cell_type": "markdown",
   "metadata": {},
   "source": [
    "## x만큼 간격이 있는 n개의 숫자\n",
    "함수 solution은 정수 x와 자연수 n을 입력 받아, x부터 시작해 x씩 증가하는 숫자를 n개 지니는 리스트를 리턴해야 합니다. 다음 제한 조건을 보고, 조건을 만족하는 함수, solution을 완성해주세요."
   ]
  },
  {
   "cell_type": "code",
   "execution_count": null,
   "metadata": {},
   "outputs": [],
   "source": [
    "def solution(x, n):\n",
    "    return [x*i for i in range(1, n+1)]\n",
    "\n",
    "solution(-4, 2)"
   ]
  },
  {
   "cell_type": "markdown",
   "metadata": {},
   "source": [
    "## 체육복\n",
    "점심시간에 도둑이 들어, 일부 학생이 체육복을 도난당했습니다. 다행히 여벌 체육복이 있는 학생이 이들에게 체육복을 빌려주려 합니다. 학생들의 번호는 체격 순으로 매겨져 있어, 바로 앞번호의 학생이나 바로 뒷번호의 학생에게만 체육복을 빌려줄 수 있습니다. 예를 들어, 4번 학생은 3번 학생이나 5번 학생에게만 체육복을 빌려줄 수 있습니다. 체육복이 없으면 수업을 들을 수 없기 때문에 체육복을 적절히 빌려 최대한 많은 학생이 체육수업을 들어야 합니다.\n",
    "\n",
    "전체 학생의 수 n, 체육복을 도난당한 학생들의 번호가 담긴 배열 lost, 여벌의 체육복을 가져온 학생들의 번호가 담긴 배열 reserve가 매개변수로 주어질 때, 체육수업을 들을 수 있는 학생의 최댓값을 return 하도록 solution 함수를 작성해주세요."
   ]
  },
  {
   "cell_type": "code",
   "execution_count": null,
   "metadata": {},
   "outputs": [],
   "source": [
    "def solution(n, lost, reverse):\n",
    "\n",
    "    reversed = set(set(reverse) - set(lost))\n",
    "    lostd = set(set(lost) - set(reverse))\n",
    "    nn = 0\n",
    "    \n",
    "    for i in lostd:\n",
    "        if i - 1 in reversed:\n",
    "            reversed.remove(i - 1)\n",
    "            nn += 1\n",
    "        elif i + 1 in reversed:\n",
    "            reversed.remove(i + 1)\n",
    "            nn += 1\n",
    "    \n",
    "    return n - len(lostd) + nn\n",
    "    \n",
    "solution(5, [2, 4],[1,3,5])"
   ]
  },
  {
   "cell_type": "markdown",
   "metadata": {},
   "source": [
    "## 문자열 나누기\n",
    "문자열 s가 입력되었을 때 다음 규칙을 따라서 이 문자열을 여러 문자열로 분해하려고 합니다.\n",
    "\n",
    "먼저 첫 글자를 읽습니다. 이 글자를 x라고 합시다.\n",
    "이제 이 문자열을 왼쪽에서 오른쪽으로 읽어나가면서, x와 x가 아닌 다른 글자들이 나온 횟수를 각각 셉니다. 처음으로 두 횟수가 같아지는 순간 멈추고, 지금까지 읽은 문자열을 분리합니다.\n",
    "s에서 분리한 문자열을 빼고 남은 부분에 대해서 이 과정을 반복합니다. 남은 부분이 없다면 종료합니다.\n",
    "만약 두 횟수가 다른 상태에서 더 이상 읽을 글자가 없다면, 역시 지금까지 읽은 문자열을 분리하고, 종료합니다.\n",
    "문자열 s가 매개변수로 주어질 때, 위 과정과 같이 문자열들로 분해하고, 분해한 문자열의 개수를 return 하는 함수 solution을 완성하세요."
   ]
  },
  {
   "cell_type": "code",
   "execution_count": null,
   "metadata": {},
   "outputs": [],
   "source": [
    "def solution(s):\n",
    "    count = 0\n",
    "    \n",
    "    firstword = ''\n",
    "    firstcount = 0\n",
    "    othercount = 0\n",
    "    \n",
    "    for i in s:\n",
    "        if firstword == '':\n",
    "            firstword = i\n",
    "            firstcount += 1\n",
    "            continue\n",
    "        \n",
    "        if firstword == i:\n",
    "            firstcount += 1\n",
    "        else:\n",
    "            othercount += 1\n",
    "            \n",
    "        if firstcount == othercount:\n",
    "            count +=1\n",
    "            firstword = ''\n",
    "            firstcount, othercount = 0, 0\n",
    "\n",
    "    if firstword != '':\n",
    "        count += 1\n",
    "\n",
    "    return count\n",
    "\n",
    "solution(\"abracadabra\")"
   ]
  },
  {
   "cell_type": "markdown",
   "metadata": {},
   "source": [
    "## 숫자 짝꿍\n",
    "두 정수 X, Y의 임의의 자리에서 공통으로 나타나는 정수 k(0 ≤ k ≤ 9)들을 이용하여 만들 수 있는 가장 큰 정수를 두 수의 짝꿍이라 합니다(단, 공통으로 나타나는 정수 중 서로 짝지을 수 있는 숫자만 사용합니다). X, Y의 짝꿍이 존재하지 않으면, 짝꿍은 -1입니다. X, Y의 짝꿍이 0으로만 구성되어 있다면, 짝꿍은 0입니다.\n",
    "\n",
    "예를 들어, X = 3403이고 Y = 13203이라면, X와 Y의 짝꿍은 X와 Y에서 공통으로 나타나는 3, 0, 3으로 만들 수 있는 가장 큰 정수인 330입니다. 다른 예시로 X = 5525이고 Y = 1255이면 X와 Y의 짝꿍은 X와 Y에서 공통으로 나타나는 2, 5, 5로 만들 수 있는 가장 큰 정수인 552입니다(X에는 5가 3개, Y에는 5가 2개 나타나므로 남는 5 한 개는 짝 지을 수 없습니다.)\n",
    "두 정수 X, Y가 주어졌을 때, X, Y의 짝꿍을 return하는 solution 함수를 완성해주세요."
   ]
  },
  {
   "cell_type": "code",
   "execution_count": null,
   "metadata": {},
   "outputs": [],
   "source": [
    "def solution(X, Y):\n",
    "    X = [i for i in X]\n",
    "    Y = [i for i in Y]\n",
    "    Z = list(set(X)&set(Y))\n",
    "    \n",
    "    if Z == []:\n",
    "        return '-1'\n",
    "    elif Z == ['0']:\n",
    "        return '0'\n",
    "    \n",
    "    #숫자가 몇번나왔는지 딕셔너리형태 , counter사용?\n",
    "    # 곂치는 숫자가 몇번 나왔는지 \n",
    "    # dictnum = { i: X.count(i) for i in Z}\n",
    "    \n",
    "    dictnum = { i: min(X.count(i), Y.count(i)) for i in Z}\n",
    "    listnum = [key for key, value in sorted(dictnum.items(), reverse=True) for _ in range(value)]\n",
    "    maxvalue = ''.join(listnum)\n",
    "    return maxvalue\n",
    "\n",
    "solution(\"1111112\", \"4222221531\")"
   ]
  },
  {
   "cell_type": "code",
   "execution_count": null,
   "metadata": {},
   "outputs": [],
   "source": [
    "## Counter사용하여 작성\n",
    "\n",
    "from collections import Counter\n",
    "\n",
    "def solution(X, Y):\n",
    "    X, Y = Counter(X), Counter(Y)\n",
    "    Z = sorted((X & Y).elements(), reverse=True)\n",
    "    common_set = list(set(X) & set(Y))\n",
    "\n",
    "    if common_set == []:\n",
    "        return '-1'\n",
    "    elif common_set == ['0']:\n",
    "        return '0'\n",
    "    \n",
    "    return ''.join(Z)\n",
    "    \n",
    "solution(\"100\", \"203045\")"
   ]
  },
  {
   "cell_type": "markdown",
   "metadata": {},
   "source": [
    "## 로또 최고 순위와 최저 순위\n"
   ]
  },
  {
   "cell_type": "code",
   "execution_count": null,
   "metadata": {},
   "outputs": [],
   "source": [
    "def solution(lottos, win_nums):\n",
    "    correct_count = 0\n",
    "    for i in lottos:\n",
    "        if i == 0 or i in win_nums:\n",
    "            correct_count += 1\n",
    "            \n",
    "    if correct_count >= 2:\n",
    "        rate = 7 - correct_count\n",
    "    else:\n",
    "        rate = 6\n",
    "    \n",
    "    maxprize = rate\n",
    "    minprize = maxprize + lottos.count(0)\n",
    "    if minprize == 7:\n",
    "        minprize -= 1\n",
    "    return [maxprize, minprize]\n",
    "\n",
    "solution([44, 1, 0, 0, 31, 25], [31, 10, 45, 1, 6, 19])"
   ]
  },
  {
   "cell_type": "markdown",
   "metadata": {},
   "source": [
    "## 옹알이(2)\n",
    "머쓱이는 태어난 지 11개월 된 조카를 돌보고 있습니다. 조카는 아직 \"aya\", \"ye\", \"woo\", \"ma\" 네 가지 발음과 네 가지 발음을 조합해서 만들 수 있는 발음밖에 하지 못하고 연속해서 같은 발음을 하는 것을 어려워합니다. 문자열 배열 babbling이 매개변수로 주어질 때, 머쓱이의 조카가 발음할 수 있는 단어의 개수를 return하도록 solution 함수를 완성해주세요."
   ]
  },
  {
   "cell_type": "code",
   "execution_count": null,
   "metadata": {},
   "outputs": [],
   "source": [
    "def solution(babbling):\n",
    "    words = [\"aya\", \"ye\", \"woo\", \"ma\"]\n",
    "    count = 0\n",
    "    \n",
    "    \n",
    "    for i in range(len(babbling)):\n",
    "        for word in words:\n",
    "            #단어가 반복되지않고, word안에 있는 단어들로만 구성되었을 경우\n",
    "            if word in babbling[i] and word * 2 not in babbling[i]:\n",
    "                babbling[i] = babbling[i].replace(word, ' ')\n",
    "    \n",
    "        if len(babbling[i].strip()) == 0:\n",
    "            count += 1\n",
    "    \n",
    "    return count\n",
    "\n",
    "solution([\"ayayemaaya\", 'yeye'])"
   ]
  },
  {
   "cell_type": "code",
   "execution_count": null,
   "metadata": {},
   "outputs": [],
   "source": [
    "import re\n",
    "\n",
    "a = [\"ayaye\", \"uuu\", \"yeye\", \"yemawoo\", \"ayaayaa\"]\n",
    "\n",
    "for i in a:\n",
    "    print(re.findall([\"aya\", \"ye\", \"woo\", \"ma\"], i))\n",
    "    "
   ]
  },
  {
   "cell_type": "markdown",
   "metadata": {},
   "source": [
    "## 실패율\n",
    "https://school.programmers.co.kr/learn/courses/30/lessons/42889"
   ]
  },
  {
   "cell_type": "code",
   "execution_count": null,
   "metadata": {},
   "outputs": [],
   "source": [
    "def solution(N, stages):\n",
    "    failure = {}\n",
    "\n",
    "    for j in range(1, N+1):\n",
    "        분자 = 0\n",
    "        분모 = 0\n",
    "        for i in stages:\n",
    "            if i > j:\n",
    "                분모 += 1\n",
    "                \n",
    "            if i == j:\n",
    "                분자 += 1\n",
    "                분모 += 1\n",
    "                \n",
    "        \n",
    "        if 분모 == 0:\n",
    "            failure[j] = 0\n",
    "        else:\n",
    "            failure[j] = 분자 / 분모\n",
    "        \n",
    "    answer = sorted(failure, key= lambda x: failure[x], reverse=True)\n",
    "    return answer\n",
    "\n",
    "solution(5, [2, 1, 2, 6, 2, 4, 3, 3])"
   ]
  },
  {
   "cell_type": "markdown",
   "metadata": {},
   "source": [
    "## 기사단원의 무기\n",
    "https://school.programmers.co.kr/learn/courses/30/lessons/136798"
   ]
  },
  {
   "cell_type": "code",
   "execution_count": null,
   "metadata": {},
   "outputs": [],
   "source": [
    "def solution(number, limit, power):\n",
    "    \n",
    "    def mydivisor(n):\n",
    "        divisorlist = []\n",
    "        for i in range(1, int(n**0.5) + 1):\n",
    "            if n % i == 0:\n",
    "                divisorlist.append(i)\n",
    "                if i**2 != n:\n",
    "                    divisorlist.append(n // i)\n",
    "        return divisorlist\n",
    "    \n",
    "    powerlist = [len(mydivisor(i)) for i in range(1, number +1)]\n",
    "    powerlist = list(map(lambda x: x if x <= limit else power, powerlist))\n",
    "    \n",
    "    return sum(powerlist)\n",
    "\n",
    "solution(10,3,2)"
   ]
  },
  {
   "cell_type": "markdown",
   "metadata": {},
   "source": [
    "## 소수 찾기\n",
    "1부터 입력받은 숫자 n 사이에 있는 소수의 개수를 반환하는 함수, solution을 만들어 보세요.\n",
    "소수는 1과 자기 자신으로만 나누어지는 수를 의미합니다.\n",
    "(1은 소수가 아닙니다.)"
   ]
  },
  {
   "cell_type": "code",
   "execution_count": null,
   "metadata": {},
   "outputs": [],
   "source": [
    "def solution(n):\n",
    "    num=set(range(2,n+1))\n",
    "\n",
    "    for i in range(2,n+1):\n",
    "        if i in num:\n",
    "            num-=set(range(2*i,n+1,i))\n",
    "    return len(num)\n",
    "    "
   ]
  },
  {
   "cell_type": "markdown",
   "metadata": {},
   "source": [
    "## 소수 만들기\n",
    "주어진 숫자 중 3개의 수를 더했을 때 소수가 되는 경우의 개수를 구하려고 합니다. 숫자들이 들어있는 배열 nums가 매개변수로 주어질 때, nums에 있는 숫자들 중 서로 다른 3개를 골라 더했을 때 소수가 되는 경우의 개수를 return 하도록 solution 함수를 완성해주세요."
   ]
  },
  {
   "cell_type": "code",
   "execution_count": null,
   "metadata": {},
   "outputs": [],
   "source": [
    "import itertools\n",
    "def solution(nums):\n",
    "    \n",
    "    #소수 판별\n",
    "    def isprime(n):\n",
    "        for j in range(2, int(n ** 0.5) + 1):\n",
    "            if n % j == 0:\n",
    "                return False\n",
    "        return True\n",
    "    \n",
    "    count = 0\n",
    "    \n",
    "    #nums에서 3개 고르기\n",
    "    combinations = list(itertools.combinations(nums, 3))\n",
    "    \n",
    "    # 3개고른것들의 배열에 각각 원소의 합이 소수라면 개수 +1\n",
    "    for comb in combinations:\n",
    "        if isprime(sum(comb)):\n",
    "            count += 1\n",
    "            \n",
    "    return count\n",
    "\n",
    "solution([1,2,7,6,4])"
   ]
  },
  {
   "cell_type": "markdown",
   "metadata": {},
   "source": [
    "## 모의고사\n",
    "수포자는 수학을 포기한 사람의 준말입니다. 수포자 삼인방은 모의고사에 수학 문제를 전부 찍으려 합니다. 수포자는 1번 문제부터 마지막 문제까지 다음과 같이 찍습니다.\n",
    "\n",
    "1번 수포자가 찍는 방식: 1, 2, 3, 4, 5, 1, 2, 3, 4, 5, ...\n",
    "2번 수포자가 찍는 방식: 2, 1, 2, 3, 2, 4, 2, 5, 2, 1, 2, 3, 2, 4, 2, 5, ...\n",
    "3번 수포자가 찍는 방식: 3, 3, 1, 1, 2, 2, 4, 4, 5, 5, 3, 3, 1, 1, 2, 2, 4, 4, 5, 5, ...\n",
    "\n",
    "1번 문제부터 마지막 문제까지의 정답이 순서대로 들은 배열 answers가 주어졌을 때, 가장 많은 문제를 맞힌 사람이 누구인지 배열에 담아 return 하도록 solution 함수를 작성해주세요."
   ]
  },
  {
   "cell_type": "code",
   "execution_count": null,
   "metadata": {},
   "outputs": [],
   "source": [
    "def solution(answers):\n",
    "    \n",
    "    n1 = [1,2,3,4,5]\n",
    "    n2 = [2,1,2,3,2,4,2,5]\n",
    "    n3 = [3,3,1,1,2,2,4,4,5,5]\n",
    "    score = {1: 0, 2: 0, 3: 0}\n",
    "    result = []\n",
    "    \n",
    "    for i in range(len(answers)):\n",
    "        if answers[i] == n1[i % len(n1)]:\n",
    "            score[1] += 1\n",
    "            \n",
    "        if answers[i] == n2[i % len(n2)]:\n",
    "            score[2] += 1\n",
    "            \n",
    "        if answers[i] == n3[i % len(n3)]:\n",
    "            score[3] += 1\n",
    "        \n",
    "    \n",
    "    maxscore = max(score.values())\n",
    "    for key, val in score.items():\n",
    "        if val == maxscore:\n",
    "            result.append(key)\n",
    "\n",
    "    return sorted(result)\n",
    "solution([1,3,2,4,2])"
   ]
  },
  {
   "cell_type": "markdown",
   "metadata": {},
   "source": [
    "## 과일장수\n",
    "https://school.programmers.co.kr/learn/courses/30/lessons/135808"
   ]
  },
  {
   "cell_type": "code",
   "execution_count": null,
   "metadata": {},
   "outputs": [],
   "source": [
    "def solution(k, m, score):\n",
    "    score.sort(reverse=True)\n",
    "    box = []\n",
    "    price = 0\n",
    "    \n",
    "    for i in range(len(score)//m):\n",
    "        box = score[m*i : m*(i+1)]\n",
    "        price += box[-1] * m\n",
    "\n",
    "    return price\n",
    "\n",
    "    # 가장 큰거 (k가 가장 큰  점수)먼저 m번만큼 pop하면서 박스에 더하고ㅓ\n",
    "    # 만들어지는 배열의 가격을 모두 더하기\n",
    "    # 남는 사과가 박스보다 작으면 pass\n",
    "solution(4,3,[4, 1, 2, 2, 4, 4, 4, 4, 1, 2, 4])"
   ]
  },
  {
   "cell_type": "markdown",
   "metadata": {},
   "source": [
    "## 폰켓몬\n",
    "https://school.programmers.co.kr/learn/courses/30/lessons/1845"
   ]
  },
  {
   "cell_type": "code",
   "execution_count": null,
   "metadata": {},
   "outputs": [],
   "source": [
    "def solution(nums):\n",
    "    half = int(len(nums) / 2)\n",
    "    nums = set(nums)\n",
    "    return len(nums) if len(nums) <= half else half\n",
    "    \n",
    "solution([3,3,3,2,2,4])"
   ]
  },
  {
   "cell_type": "markdown",
   "metadata": {},
   "source": [
    "## 2016년\n",
    "2016년 1월 1일은 금요일입니다. 2016년 a월 b일은 무슨 요일일까요? 두 수 a ,b를 입력받아 2016년 a월 b일이 무슨 요일인지 리턴하는 함수, solution을 완성하세요. 요일의 이름은 일요일부터 토요일까지 각각 SUN,MON,TUE,WED,THU,FRI,SAT\n",
    "\n",
    "입니다. 예를 들어 a=5, b=24라면 5월 24일은 화요일이므로 문자열 \"TUE\"를 반환하세요"
   ]
  },
  {
   "cell_type": "code",
   "execution_count": null,
   "metadata": {},
   "outputs": [],
   "source": [
    "import datetime\n",
    "\n",
    "def solution(a, b):\n",
    "    days = [\"MON\",\"TUE\",\"WED\",\"THU\",\"FRI\",\"SAT\",\"SUN\",]\n",
    "    return days[datetime.datetime(2016, a, b).weekday()]\n",
    "\n",
    "solution(5, 23)"
   ]
  },
  {
   "cell_type": "markdown",
   "metadata": {},
   "source": [
    "## 카드 뭉치\n",
    "https://school.programmers.co.kr/learn/courses/30/lessons/159994"
   ]
  },
  {
   "cell_type": "code",
   "execution_count": null,
   "metadata": {},
   "outputs": [],
   "source": [
    "def solution(cards1, cards2, goal):\n",
    "    for g in goal:\n",
    "        if len(cards1) > 0 and g == cards1[0]:\n",
    "            cards1.pop(0)       \n",
    "        elif len(cards2) >0 and g == cards2[0]:\n",
    "            cards2.pop(0)\n",
    "        else:\n",
    "            return \"No\"\n",
    "    return \"Yes\"\n",
    "solution([\"i\", \"water\", \"drink\"],[\"want\", \"to\"], [\"i\", \"want\", \"to\", \"drink\", \"water\"])"
   ]
  },
  {
   "cell_type": "markdown",
   "metadata": {},
   "source": [
    "## 명예의 전당(1)\n",
    "https://school.programmers.co.kr/learn/courses/30/lessons/138477"
   ]
  },
  {
   "cell_type": "code",
   "execution_count": null,
   "metadata": {},
   "outputs": [],
   "source": [
    "def solution(k, score):\n",
    "    result = []\n",
    "    rewards = []\n",
    "    \n",
    "    for i in score:\n",
    "        rewards.append(i)\n",
    "        rewards.sort(reverse=True)\n",
    "        if len(rewards) > k:\n",
    "            rewards.pop()\n",
    "        \n",
    "        result.append(rewards[-1])\n",
    "    \n",
    "    return result\n",
    "\n",
    "solution(3, [10, 100, 20, 150, 1, 100, 200])"
   ]
  },
  {
   "cell_type": "markdown",
   "metadata": {},
   "source": [
    "## 콜라문제\n",
    "https://school.programmers.co.kr/learn/courses/30/lessons/132267"
   ]
  },
  {
   "cell_type": "code",
   "execution_count": null,
   "metadata": {},
   "outputs": [],
   "source": [
    "def solution(a, b, n):\n",
    "    # a개를 가져다주면 b개를 주고 n병이 있다면 몇병을 받을 수 있는지\n",
    "    count = 0\n",
    "    \n",
    "    while n >= a:\n",
    "        remain = n % a\n",
    "        n = (n // a) * b\n",
    "        count += n\n",
    "        n += remain\n",
    "    return count\n",
    "\n",
    "solution(3,1,20)"
   ]
  },
  {
   "cell_type": "markdown",
   "metadata": {},
   "source": [
    "## 두 개 뽑아서 더하기\n",
    "정수 배열 numbers가 주어집니다. numbers에서 서로 다른 인덱스에 있는 두 개의 수를 뽑아 더해서 만들 수 있는 모든 수를 배열에 오름차순으로 담아 return 하도록 solution 함수를 완성해주세요."
   ]
  },
  {
   "cell_type": "code",
   "execution_count": null,
   "metadata": {},
   "outputs": [],
   "source": [
    "from itertools import combinations\n",
    "def solution(numbers):\n",
    "    comb = list(combinations(numbers, 2))\n",
    "    answer = sorted(list(set(map(lambda x: sum(x), comb))))\n",
    "    return answer\n",
    "\n",
    "solution([1, 2, 6, 10, 13, 20])"
   ]
  },
  {
   "cell_type": "markdown",
   "metadata": {},
   "source": [
    "## K번째수\n",
    "배열 array의 i번째 숫자부터 j번째 숫자까지 자르고 정렬했을 때, k번째에 있는 수를 구하려 합니다.\n",
    "\n",
    "예를 들어 array가 [1, 5, 2, 6, 3, 7, 4], i = 2, j = 5, k = 3이라면\n",
    "\n",
    "array의 2번째부터 5번째까지 자르면 [5, 2, 6, 3]입니다.\n",
    "1에서 나온 배열을 정렬하면 [2, 3, 5, 6]입니다.\n",
    "2에서 나온 배열의 3번째 숫자는 5입니다.\n",
    "배열 array, [i, j, k]를 원소로 가진 2차원 배열 commands가 매개변수로 주어질 때, commands의 모든 원소에 대해 앞서 설명한 연산을 적용했을 때 나온 결과를 배열에 담아 return 하도록 solution 함수를 작성해주세요."
   ]
  },
  {
   "cell_type": "code",
   "execution_count": null,
   "metadata": {},
   "outputs": [],
   "source": [
    "def solution(array, commands):\n",
    "    result = []\n",
    "    for i in commands:\n",
    "        arr = sorted((array[i[0]-1:i[1]]))\n",
    "        result.append(arr[i[2]-1])\n",
    "    return result\n",
    "solution([1, 5, 2, 6, 3, 7, 4], [[2, 5, 3], [4, 4, 1], [1, 7, 3]])"
   ]
  },
  {
   "cell_type": "markdown",
   "metadata": {},
   "source": [
    "## 문자열 내 마음대로 정하기\n",
    "문자열로 구성된 리스트 strings와, 정수 n이 주어졌을 때, 각 문자열의 인덱스 n번째 글자를 기준으로 오름차순 정렬하려 합니다. 예를 들어 strings가 [\"sun\", \"bed\", \"car\"]이고 n이 1이면 각 단어의 인덱스 1의 문자 \"u\", \"e\", \"a\"로 strings를 정렬합니다."
   ]
  },
  {
   "cell_type": "code",
   "execution_count": null,
   "metadata": {},
   "outputs": [],
   "source": [
    "def solution(strings, n):\n",
    "    answer = sorted(strings, key=lambda x: (x[n], x))\n",
    "    return answer\n",
    "\n",
    "solution([\"abce\", \"abcd\", \"cdx\"], 2)"
   ]
  },
  {
   "cell_type": "markdown",
   "metadata": {},
   "source": [
    "## 푸드 파이트 대회 \n",
    "https://school.programmers.co.kr/learn/courses/30/lessons/134240"
   ]
  },
  {
   "cell_type": "code",
   "execution_count": null,
   "metadata": {},
   "outputs": [],
   "source": [
    "def solution(food):\n",
    "    for i in range(1, len(food)):\n",
    "        food[i] = int(food[i]/2)\n",
    "    \n",
    "    left = ''.join([str(i) * food[i] for i in range(1, len(food))])\n",
    "    right = ''.join(reversed(left))\n",
    "    return left + '0' + right\n",
    "\n",
    "solution([1,3,4,6])"
   ]
  },
  {
   "cell_type": "markdown",
   "metadata": {},
   "source": [
    "## 자리수 더하기\n",
    "자연수 N이 주어지면, N의 각 자릿수의 합을 구해서 return 하는 solution 함수를 만들어 주세요.\n",
    "예를들어 N = 123이면 1 + 2 + 3 = 6을 return 하면 됩니다."
   ]
  },
  {
   "cell_type": "code",
   "execution_count": null,
   "metadata": {},
   "outputs": [],
   "source": [
    "def solution(n):\n",
    "    answer = sum(list(map(int, [i for i in str(n)])))\n",
    "    return answer\n",
    "\n",
    "solution(123)"
   ]
  },
  {
   "cell_type": "markdown",
   "metadata": {},
   "source": [
    "## 문자열 내 p와 y의 개수\n",
    "대문자와 소문자가 섞여있는 문자열 s가 주어집니다. s에 'p'의 개수와 'y'의 개수를 비교해 같으면 True, 다르면 False를 return 하는 solution를 완성하세요. 'p', 'y' 모두 하나도 없는 경우는 항상 True를 리턴합니다. 단, 개수를 비교할 때 대문자와 소문자는 구별하지 않습니다.\n",
    "\n",
    "예를 들어 s가 \"pPoooyY\"면 true를 return하고 \"Pyy\"라면 false를 return합니다."
   ]
  },
  {
   "cell_type": "code",
   "execution_count": null,
   "metadata": {},
   "outputs": [],
   "source": [
    "def solution(s):\n",
    "    s = s.lower()\n",
    "    pcount = s.count('p')\n",
    "    ycount = s.count('y')\n",
    "    \n",
    "    return pcount == ycount\n",
    "\n",
    "solution(\"pPoooyY\")"
   ]
  },
  {
   "cell_type": "markdown",
   "metadata": {},
   "source": [
    "## 자연수 뒤집어 배열로 만들기\n",
    "자연수 n을 뒤집어 각 자리 숫자를 원소로 가지는 배열 형태로 리턴해주세요. 예를들어 n이 12345이면 [5,4,3,2,1]을 리턴합니다."
   ]
  },
  {
   "cell_type": "code",
   "execution_count": null,
   "metadata": {},
   "outputs": [],
   "source": [
    "def solution(n):\n",
    "    return [int(i) for i in reversed(str(n))]\n",
    "\n",
    "solution(12345)"
   ]
  },
  {
   "cell_type": "markdown",
   "metadata": {},
   "source": [
    "## 정수 제곱근 판별\n",
    "임의의 양의 정수 n에 대해, n이 어떤 양의 정수 x의 제곱인지 아닌지 판단하려 합니다.\n",
    "n이 양의 정수 x의 제곱이라면 x+1의 제곱을 리턴하고, n이 양의 정수 x의 제곱이 아니라면 -1을 리턴하는 함수를 완성하세요."
   ]
  },
  {
   "cell_type": "code",
   "execution_count": null,
   "metadata": {},
   "outputs": [],
   "source": [
    "def solution(n):\n",
    "    if int(n ** 0.5) == n**0.5:\n",
    "        return (int(n ** 0.5)+1) ** 2\n",
    "    return -1\n",
    "\n",
    "solution(3)"
   ]
  },
  {
   "cell_type": "markdown",
   "metadata": {},
   "source": [
    "## 둘만의 암호\n",
    "두 문자열 s와 skip, 그리고 자연수 index가 주어질 때, 다음 규칙에 따라 문자열을 만들려 합니다. 암호의 규칙은 다음과 같습니다.\n",
    "\n",
    "문자열 s의 각 알파벳을 index만큼 뒤의 알파벳으로 바꿔줍니다.\n",
    "index만큼의 뒤의 알파벳이 z를 넘어갈 경우 다시 a로 돌아갑니다.\n",
    "skip에 있는 알파벳은 제외하고 건너뜁니다.\n",
    "예를 들어 s = \"aukks\", skip = \"wbqd\", index = 5일 때, a에서 5만큼 뒤에 있는 알파벳은 f지만 [b, c, d, e, f]에서 'b'와 'd'는 skip에 포함되므로 세지 않습니다. 따라서 'b', 'd'를 제외하고 'a'에서 5만큼 뒤에 있는 알파벳은 [c, e, f, g, h] 순서에 의해 'h'가 됩니다. 나머지 \"ukks\" 또한 위 규칙대로 바꾸면 \"appy\"가 되며 결과는 \"happy\"가 됩니다.\n",
    "\n",
    "두 문자열 s와 skip, 그리고 자연수 index가 매개변수로 주어질 때 위 규칙대로 s를 변환한 결과를 return하도록 solution 함수를 완성해주세요."
   ]
  },
  {
   "cell_type": "code",
   "execution_count": null,
   "metadata": {},
   "outputs": [],
   "source": [
    "def solution(s, skip, index):\n",
    "    abc = 'abcdefghijklmnopqrstuvwxyz'\n",
    "    result = ''\n",
    "    for word in skip:\n",
    "        if word in abc:\n",
    "            abc = abc.replace(word, '')\n",
    "    \n",
    "    for start in s:\n",
    "        result += abc[(abc.index(start) + index) % len(abc)]\n",
    "    \n",
    "    return result\n",
    "\n",
    "solution(\"aukks\",\"wbqd\",5)"
   ]
  },
  {
   "cell_type": "markdown",
   "metadata": {},
   "source": [
    "## 정수 내림차순으로 배치하기\n",
    "함수 solution은 정수 n을 매개변수로 입력받습니다. n의 각 자릿수를 큰것부터 작은 순으로 정렬한 새로운 정수를 리턴해주세요. 예를들어 n이 118372면 873211을 리턴하면 됩니다."
   ]
  },
  {
   "cell_type": "code",
   "execution_count": null,
   "metadata": {},
   "outputs": [],
   "source": [
    "def solution(n):\n",
    "    return int(''.join(sorted([i for i in str(n)], reverse=True)))\n",
    "\n",
    "solution(10235)"
   ]
  },
  {
   "cell_type": "markdown",
   "metadata": {},
   "source": [
    "## 하샤드 수\n",
    "양의 정수 x가 하샤드 수이려면 x의 자릿수의 합으로 x가 나누어져야 합니다. 예를 들어 18의 자릿수 합은 1+8=9이고, 18은 9로 나누어 떨어지므로 18은 하샤드 수입니다. 자연수 x를 입력받아 x가 하샤드 수인지 아닌지 검사하는 함수, solution을 완성해주세요."
   ]
  },
  {
   "cell_type": "code",
   "execution_count": null,
   "metadata": {},
   "outputs": [],
   "source": [
    "def solution(x):\n",
    "    xsum = sum(list(map(int, (list(str(x))))))\n",
    "    return x % xsum == 0\n",
    "\n",
    "solution(10)"
   ]
  },
  {
   "cell_type": "markdown",
   "metadata": {},
   "source": [
    "## 두 정수 사이의 합\n",
    "두 정수 a, b가 주어졌을 때 a와 b 사이에 속한 모든 정수의 합을 리턴하는 함수, solution을 완성하세요.\n",
    "예를 들어 a = 3, b = 5인 경우, 3 + 4 + 5 = 12이므로 12를 리턴합니다."
   ]
  },
  {
   "cell_type": "code",
   "execution_count": null,
   "metadata": {},
   "outputs": [],
   "source": [
    "def solution(a, b):\n",
    "    if a > b:\n",
    "        a, b = b, a\n",
    "    \n",
    "    return (b - a + 1) * (a + b) // 2\n",
    "\n",
    "solution(3,5)"
   ]
  },
  {
   "cell_type": "code",
   "execution_count": null,
   "metadata": {},
   "outputs": [],
   "source": [
    "min(1,2)"
   ]
  },
  {
   "cell_type": "markdown",
   "metadata": {},
   "source": [
    "## 음양 더하기\n",
    "어떤 정수들이 있습니다. 이 정수들의 절댓값을 차례대로 담은 정수 배열 absolutes와 이 정수들의 부호를 차례대로 담은 불리언 배열 signs가 매개변수로 주어집니다. 실제 정수들의 합을 구하여 return 하도록 solution 함수를 완성해주세요."
   ]
  },
  {
   "cell_type": "code",
   "execution_count": null,
   "metadata": {},
   "outputs": [],
   "source": [
    "def solution(absolutes, signs):\n",
    "    for i in range(len(absolutes)):\n",
    "        if signs[i] == False:\n",
    "            absolutes[i] = (-absolutes[i])\n",
    "    return sum(absolutes)\n",
    "\n",
    "solution([4,7,12], [True,False,True])"
   ]
  },
  {
   "cell_type": "code",
   "execution_count": null,
   "metadata": {},
   "outputs": [],
   "source": [
    "def solution(absolutes, signs):\n",
    "    answer=0\n",
    "    for absolute,sign in zip(absolutes,signs):\n",
    "        if sign:\n",
    "            answer+=absolute\n",
    "        else:\n",
    "            answer-=absolute\n",
    "    return answer"
   ]
  },
  {
   "cell_type": "markdown",
   "metadata": {},
   "source": [
    "## 콜라츠 추측\n",
    "1937년 Collatz란 사람에 의해 제기된 이 추측은, 주어진 수가 1이 될 때까지 다음 작업을 반복하면, 모든 수를 1로 만들 수 있다는 추측입니다. 작업은 다음과 같습니다.\n",
    "\n",
    "1-1. 입력된 수가 짝수라면 2로 나눕니다. \n",
    "\n",
    "1-2. 입력된 수가 홀수라면 3을 곱하고 1을 더합니다. \n",
    "\n",
    "\n",
    "2. 결과로 나온 수에 같은 작업을 1이 될 때까지 반복합니다. \n",
    "예를 들어, 주어진 수가 6이라면 6 → 3 → 10 → 5 → 16 → 8 → 4 → 2 → 1 이 되어 총 8번 만에 1이 됩니다. 위 작업을 몇 번이나 반복해야 하는지 반환하는 함수, solution을 완성해 주세요. 단, 주어진 수가 1인 경우에는 0을, 작업을 500번 반복할 때까지 1이 되지 않는다면 –1을 반환해 주세요."
   ]
  },
  {
   "cell_type": "code",
   "execution_count": null,
   "metadata": {},
   "outputs": [],
   "source": [
    "def solution(num):\n",
    "    count = 0\n",
    "    for _ in range(500):\n",
    "        if num == 1:\n",
    "            return count\n",
    "        \n",
    "        if num % 2 == 0:\n",
    "            num /= 2\n",
    "        else:\n",
    "            num = num*3 +1\n",
    "\n",
    "        count += 1\n",
    "        \n",
    "    return -1\n",
    "\n",
    "solution(16)"
   ]
  },
  {
   "cell_type": "markdown",
   "metadata": {},
   "source": [
    "## 서울에서 김서방 찾기\n",
    "String형 배열 seoul의 element중 \"Kim\"의 위치 x를 찾아, \"김서방은 x에 있다\"는 String을 반환하는 함수, solution을 완성하세요. seoul에 \"Kim\"은 오직 한 번만 나타나며 잘못된 값이 입력되는 경우는 없습니다."
   ]
  },
  {
   "cell_type": "code",
   "execution_count": null,
   "metadata": {},
   "outputs": [],
   "source": [
    "def solution(seoul):\n",
    "    index = seoul.index('Kim')\n",
    "    return f'김서방은 {index}에 있다'\n",
    "\n",
    "solution([\"Jane\", \"Kim\"])"
   ]
  },
  {
   "cell_type": "markdown",
   "metadata": {},
   "source": [
    "## 나누어 떨어지는 숫자 배열\n",
    "array의 각 element 중 divisor로 나누어 떨어지는 값을 오름차순으로 정렬한 배열을 반환하는 함수, solution을 작성해주세요.\n",
    "divisor로 나누어 떨어지는 element가 하나도 없다면 배열에 -1을 담아 반환하세요."
   ]
  },
  {
   "cell_type": "code",
   "execution_count": null,
   "metadata": {},
   "outputs": [],
   "source": [
    "def solution(arr, divisor):\n",
    "    result =[]\n",
    "    for i in arr:\n",
    "        if i % divisor == 0:\n",
    "            result.append(i)\n",
    "    \n",
    "    return [-1] if result == [] else sorted(result)\n",
    "\n",
    "solution([2, 36, 1, 3], 1)"
   ]
  },
  {
   "cell_type": "markdown",
   "metadata": {},
   "source": [
    "## 숫자 문자열과 영단어\n",
    "https://school.programmers.co.kr/learn/courses/30/lessons/81301"
   ]
  },
  {
   "cell_type": "code",
   "execution_count": 18,
   "metadata": {},
   "outputs": [
    {
     "data": {
      "text/plain": [
       "'asd12'"
      ]
     },
     "execution_count": 18,
     "metadata": {},
     "output_type": "execute_result"
    }
   ],
   "source": [
    "def solution(s):\n",
    "    table = {'one' : '1', 'two': '2', 'three': '3','four': '4','five': '5','six': '6','seven': '7','eight': '8','nine': '9','zero': '0'}\n",
    "\n",
    "    for key, value in table.items():\n",
    "        s = s.replace(key, value)\n",
    "    \n",
    "    return int(s)\n",
    "\n",
    "solution('asdonetwo')"
   ]
  },
  {
   "cell_type": "markdown",
   "metadata": {},
   "source": [
    "## 가장 가까운 같은 글자\n",
    "문자열 s가 주어졌을 때, s의 각 위치마다 자신보다 앞에 나왔으면서, 자신과 가장 가까운 곳에 있는 같은 글자가 어디 있는지 알고 싶습니다.\n",
    "예를 들어, s=\"banana\"라고 할 때,  각 글자들을 왼쪽부터 오른쪽으로 읽어 나가면서 다음과 같이 진행할 수 있습니다.\n",
    "\n",
    "b는 처음 나왔기 때문에 자신의 앞에 같은 글자가 없습니다. 이는 -1로 표현합니다.\n",
    "a는 처음 나왔기 때문에 자신의 앞에 같은 글자가 없습니다. 이는 -1로 표현합니다.\n",
    "n은 처음 나왔기 때문에 자신의 앞에 같은 글자가 없습니다. 이는 -1로 표현합니다.\n",
    "a는 자신보다 두 칸 앞에 a가 있습니다. 이는 2로 표현합니다.\n",
    "n도 자신보다 두 칸 앞에 n이 있습니다. 이는 2로 표현합니다.\n",
    "a는 자신보다 두 칸, 네 칸 앞에 a가 있습니다. 이 중 가까운 것은 두 칸 앞이고, 이는 2로 표현합니다.\n",
    "따라서 최종 결과물은 [-1, -1, -1, 2, 2, 2]가 됩니다.\n",
    "\n",
    "문자열 s이 주어질 때, 위와 같이 정의된 연산을 수행하는 함수 solution을 완성해주세요."
   ]
  },
  {
   "cell_type": "code",
   "execution_count": 27,
   "metadata": {},
   "outputs": [
    {
     "data": {
      "text/plain": [
       "[-1, -1, -1, 1, 2, 1]"
      ]
     },
     "execution_count": 27,
     "metadata": {},
     "output_type": "execute_result"
    }
   ],
   "source": [
    "def solution(s):\n",
    "    answer = []\n",
    "    dic = dict()\n",
    "    for i in range(len(s)):\n",
    "        if s[i] not in dic:\n",
    "            answer.append(-1)\n",
    "        else:\n",
    "            answer.append(i - dic[s[i]])\n",
    "        dic[s[i]] = i\n",
    "\n",
    "    return answer"
   ]
  },
  {
   "cell_type": "markdown",
   "metadata": {},
   "source": [
    "## 없는 숫자 더하기\n",
    "0부터 9까지의 숫자 중 일부가 들어있는 정수 배열 numbers가 매개변수로 주어집니다. numbers에서 찾을 수 없는 0부터 9까지의 숫자를 모두 찾아 더한 수를 return 하도록 solution 함수를 완성해주세요."
   ]
  },
  {
   "cell_type": "code",
   "execution_count": 38,
   "metadata": {},
   "outputs": [
    {
     "data": {
      "text/plain": [
       "6"
      ]
     },
     "execution_count": 38,
     "metadata": {},
     "output_type": "execute_result"
    }
   ],
   "source": [
    "def solution(numbers):\n",
    "    numbers=''.join(map(str, numbers))\n",
    "    result = []\n",
    "    \n",
    "    for i in range(10): \n",
    "        if str(i) not in numbers:\n",
    "            result.append(i)\n",
    "    \n",
    "    return sum(result)\n",
    "\n",
    "solution([5,8,4,0,6,7,9])"
   ]
  },
  {
   "cell_type": "code",
   "execution_count": 39,
   "metadata": {},
   "outputs": [
    {
     "data": {
      "text/plain": [
       "6"
      ]
     },
     "execution_count": 39,
     "metadata": {},
     "output_type": "execute_result"
    }
   ],
   "source": [
    "def solution(numbers):\n",
    "    return sum(range(10)) - sum(numbers)\n"
   ]
  },
  {
   "cell_type": "markdown",
   "metadata": {},
   "source": [
    "## 핸드폰 번호 가리기\n",
    "프로그래머스 모바일은 개인정보 보호를 위해 고지서를 보낼 때 고객들의 전화번호의 일부를 가립니다.\n",
    "전화번호가 문자열 phone_number로 주어졌을 때, 전화번호의 뒷 4자리를 제외한 나머지 숫자를 전부 *으로 가린 문자열을 리턴하는 함수, solution을 완성해주세요."
   ]
  },
  {
   "cell_type": "code",
   "execution_count": 52,
   "metadata": {},
   "outputs": [
    {
     "data": {
      "text/plain": [
       "'*****8888'"
      ]
     },
     "execution_count": 52,
     "metadata": {},
     "output_type": "execute_result"
    }
   ],
   "source": [
    "def solution(phone_number):\n",
    "    return len(phone_number[:-4]) * '*' + phone_number[-4:]\n",
    "\n",
    "solution(\"027778888\")"
   ]
  },
  {
   "cell_type": "markdown",
   "metadata": {},
   "source": [
    "## 제일 작은 수 제거하기\n",
    "정수를 저장한 배열, arr 에서 가장 작은 수를 제거한 배열을 리턴하는 함수, solution을 완성해주세요. 단, 리턴하려는 배열이 빈 배열인 경우엔 배열에 -1을 채워 리턴하세요. 예를들어 arr이 [4,3,2,1]인 경우는 [4,3,2]를 리턴 하고, [10]면 [-1]을 리턴 합니다."
   ]
  },
  {
   "cell_type": "code",
   "execution_count": 55,
   "metadata": {},
   "outputs": [
    {
     "data": {
      "text/plain": [
       "[4, 3, 2]"
      ]
     },
     "execution_count": 55,
     "metadata": {},
     "output_type": "execute_result"
    }
   ],
   "source": [
    "def solution(arr):\n",
    "    arr.pop(arr.index(min(arr)))\n",
    "    return arr if arr else [-1]\n",
    "\n",
    "solution([4,3,2,1])"
   ]
  },
  {
   "cell_type": "markdown",
   "metadata": {},
   "source": [
    "## 내적\n",
    "길이가 같은 두 1차원 정수 배열 a, b가 매개변수로 주어집니다. a와 b의 내적을 return 하도록 solution 함수를 완성해주세요.\n",
    "\n",
    "이때, a와 b의 내적은 a[0]*b[0] + a[1]*b[1] + ... + a[n-1]*b[n-1] 입니다. (n은 a, b의 길이)"
   ]
  },
  {
   "cell_type": "code",
   "execution_count": 59,
   "metadata": {},
   "outputs": [
    {
     "data": {
      "text/plain": [
       "3"
      ]
     },
     "execution_count": 59,
     "metadata": {},
     "output_type": "execute_result"
    }
   ],
   "source": [
    "def solution(a,b):\n",
    "    answer = 0\n",
    "    for i in range(len(a)):\n",
    "        answer += a[i] * b[i]\n",
    "        \n",
    "    return answer\n",
    "\n",
    "solution([1,2,3,4], [-3,-1,0,2])"
   ]
  },
  {
   "cell_type": "code",
   "execution_count": 62,
   "metadata": {},
   "outputs": [
    {
     "data": {
      "text/plain": [
       "3"
      ]
     },
     "execution_count": 62,
     "metadata": {},
     "output_type": "execute_result"
    }
   ],
   "source": [
    "def solution(a,b):\n",
    "\n",
    "    return sum([x*y for x, y in zip(a, b)])\n",
    "\n",
    "solution([1,2,3,4], [-3,-1,0,2])"
   ]
  },
  {
   "cell_type": "markdown",
   "metadata": {},
   "source": [
    "## 가운데 글자 가져오기\n",
    "단어 s의 가운데 글자를 반환하는 함수, solution을 만들어 보세요. 단어의 길이가 짝수라면 가운데 두글자를 반환하면 됩니다."
   ]
  },
  {
   "cell_type": "code",
   "execution_count": 73,
   "metadata": {},
   "outputs": [
    {
     "data": {
      "text/plain": [
       "'sd'"
      ]
     },
     "execution_count": 73,
     "metadata": {},
     "output_type": "execute_result"
    }
   ],
   "source": [
    "def solution(s):\n",
    "    if len(s) % 2 == 1:\n",
    "        return s[int(len(s) / 2)]\n",
    "    else:\n",
    "        return s[int(len(s) / 2)-1:int(len(s) / 2)+1]\n",
    "solution('asdd')"
   ]
  },
  {
   "cell_type": "code",
   "execution_count": 75,
   "metadata": {},
   "outputs": [
    {
     "name": "stdout",
     "output_type": "stream",
     "text": [
      "we\n"
     ]
    }
   ],
   "source": [
    "def string_middle(str):\n",
    "    return str[(len(str)-1)//2 : len(str)//2 + 1]\n",
    "\n",
    "# 아래는 테스트로 출력해 보기 위한 코드입니다.\n",
    "print(string_middle(\"poweer\"))"
   ]
  }
 ],
 "metadata": {
  "kernelspec": {
   "display_name": "Python 3",
   "language": "python",
   "name": "python3"
  },
  "language_info": {
   "codemirror_mode": {
    "name": "ipython",
    "version": 3
   },
   "file_extension": ".py",
   "mimetype": "text/x-python",
   "name": "python",
   "nbconvert_exporter": "python",
   "pygments_lexer": "ipython3",
   "version": "3.12.0"
  }
 },
 "nbformat": 4,
 "nbformat_minor": 2
}
